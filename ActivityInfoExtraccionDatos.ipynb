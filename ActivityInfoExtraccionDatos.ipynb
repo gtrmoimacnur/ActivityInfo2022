{
 "cells": [
  {
   "cell_type": "markdown",
   "metadata": {},
   "source": [
    "# Extracción de datos de base Activity Info 2022"
   ]
  },
  {
   "cell_type": "code",
   "execution_count": 33,
   "metadata": {},
   "outputs": [],
   "source": [
    "#!/usr/bin/env python\n",
    "# coding: utf-8\n",
    "import activityinfo as AT\n",
    "import pandas as pd\n",
    "import numpy as np\n",
    "import geopandas as gpd\n",
    "import time\n",
    "import pickle\n",
    "import re"
   ]
  },
  {
   "cell_type": "code",
   "execution_count": 34,
   "metadata": {},
   "outputs": [],
   "source": [
    "t = time.localtime()\n",
    "timestamp = time.strftime('%b-%d-%Y_%H%M', t)"
   ]
  },
  {
   "cell_type": "markdown",
   "metadata": {},
   "source": [
    "# Leer tablas de referencia"
   ]
  },
  {
   "cell_type": "code",
   "execution_count": 35,
   "metadata": {},
   "outputs": [],
   "source": [
    "Admin_ref = pd.read_excel(r'C:\\Users\\jorcabrera\\OneDrive - International Organization for Migration - IOM\\InteragencyGTRM\\GTRM 2022\\IM 2022\\ActivityInfo\\MasterList\\NEW_MasterList2022.xlsx', sheet_name='Admin')\n",
    "Organizations_ref = pd.read_excel(r'C:\\Users\\jorcabrera\\OneDrive - International Organization for Migration - IOM\\InteragencyGTRM\\GTRM 2022\\IM 2022\\ActivityInfo\\MasterList\\NEW_MasterList2022.xlsx', sheet_name='ImplementingPartners')\n",
    "MarcoMonitoreo_ref= pd.read_excel(r'C:\\Users\\jorcabrera\\OneDrive - International Organization for Migration - IOM\\InteragencyGTRM\\GTRM 2022\\IM 2022\\ActivityInfo\\MasterList\\NEW_MasterList2022.xlsx', sheet_name='marco_monitoreo')\n",
    "\n",
    "indicadores_ref=MarcoMonitoreo_ref[['codigo', 'codigo_regional','indicador_eng', 'unidad','unidad_reg', 'capacitacion']]"
   ]
  },
  {
   "cell_type": "markdown",
   "metadata": {},
   "source": [
    "## Extraccion de datos"
   ]
  },
  {
   "cell_type": "code",
   "execution_count": 36,
   "metadata": {},
   "outputs": [],
   "source": [
    "t = time.localtime()\n",
    "timestamp = time.strftime('%b-%d-%Y_%H%M', t)\n",
    "mes_curso = 'AI2022-03.xlsx'\n",
    "mes = '2022-03'\n",
    "df_activity_info = pd.read_excel(r'C:\\Users\\jorcabrera\\OneDrive - International Organization for Migration - IOM\\InteragencyGTRM\\GTRM 2022\\IM 2022\\ActivityInfo\\DescargasMensuales'+ '\\\\' + mes_curso)\n",
    "df_activity_info = df_activity_info[df_activity_info['Value'] != 0]\n"
   ]
  },
  {
   "cell_type": "code",
   "execution_count": 37,
   "metadata": {},
   "outputs": [],
   "source": [
    "#Filtro MES\n",
    "#df_activity_info = df_activity_info[(df_activity_info['mes'] == mes)]"
   ]
  },
  {
   "cell_type": "markdown",
   "metadata": {},
   "source": [
    "# Transferencias monetarias\n",
    "Al hacer este paso se duplica el monto por cada indicador, esto debe ser considerado luego al realizar los tableros"
   ]
  },
  {
   "cell_type": "code",
   "execution_count": 38,
   "metadata": {},
   "outputs": [],
   "source": [
    "df_CVA = df_activity_info[df_activity_info['Quantity Field Code'] == 'usd_transfer']\n",
    "df_CVA = df_CVA[['RecordId', 'mecanismo_de_entrega', 'Quantity Field Code', 'Value']]\n",
    "df_CVA.rename(columns={'Quantity Field Code': 'CVA_tag', 'Value': 'Monto transferido'}, inplace=True)\n",
    "del df_CVA['mecanismo_de_entrega']\n",
    "df_activity_info = df_activity_info[df_activity_info['Quantity Field Code'] != 'usd_transfer']\n",
    "df_activity_info = pd.merge(df_activity_info, df_CVA, how='left', on='RecordId')\n",
    "df_activity_info['CVA_tag'] = np.where(((df_activity_info['modalidad_de_implementación'] == 'Efectivo')\n",
    "|\n",
    "(df_activity_info['modalidad_de_implementación'] == 'Cupón / voucher')\n",
    "),'Si','No')\n"
   ]
  },
  {
   "cell_type": "markdown",
   "metadata": {},
   "source": [
    "Tagging de indicadores segun codigo"
   ]
  },
  {
   "cell_type": "markdown",
   "metadata": {},
   "source": [
    "Creación de variables para nombres de las columnas"
   ]
  },
  {
   "cell_type": "code",
   "execution_count": 39,
   "metadata": {},
   "outputs": [],
   "source": [
    "poblacion_meta_col = 'población meta'\n",
    "unidad = 'unidad'\n",
    "frecuencia = 'frecuencia'\n",
    "monitoreo_frontera ='monitoreo_frontera'\n",
    "lgbti = 'lgbti'\n",
    "discapacitados = 'discapacidad'"
   ]
  },
  {
   "cell_type": "markdown",
   "metadata": {},
   "source": [
    "## Definición de poblacion meta\n",
    "Se clasifica segun el código de indicador el tipo de población que se va a medir con el indicador"
   ]
  },
  {
   "cell_type": "code",
   "execution_count": 40,
   "metadata": {},
   "outputs": [],
   "source": [
    "df_activity_info.loc[(df_activity_info['Quantity Field Code'].str.contains(\"RM\", regex=False) == True),\n",
    "                         poblacion_meta_col] = 'Refugiados y migrantes'\n",
    "df_activity_info.loc[(df_activity_info['Quantity Field Code'].str.contains(\"CA\", regex=False) == True),\n",
    "                         poblacion_meta_col] = 'Comunidad de acogida'"
   ]
  },
  {
   "cell_type": "markdown",
   "metadata": {},
   "source": [
    "## Definición de unidades\n",
    "Se clasifica segun el código de indicador la unidad en la que se expresa el indicador ej. Niñas Niños Mujeres Hombres "
   ]
  },
  {
   "cell_type": "code",
   "execution_count": 41,
   "metadata": {},
   "outputs": [],
   "source": [
    "df_activity_info.loc[(df_activity_info['Quantity Field Code'].str.contains(\"NA\", regex=False) == True),\n",
    "                         unidad] = 'Niñas'\n",
    "df_activity_info.loc[(df_activity_info['Quantity Field Code'].str.contains(\"ADM\", regex=False) == True),\n",
    "                         unidad] = 'Niñas'\n",
    "df_activity_info.loc[(df_activity_info['Quantity Field Code'].str.contains(\"NN\", regex=False) == True),\n",
    "                         unidad] = 'Niños'\n",
    "df_activity_info.loc[(df_activity_info['Quantity Field Code'].str.contains(\"ADH\", regex=False) == True),\n",
    "                         unidad] = 'Niños'\n",
    "df_activity_info.loc[(df_activity_info['Quantity Field Code'].str.contains(\"MM\", regex=False) == True),\n",
    "                         unidad] = 'Mujeres'\n",
    "df_activity_info.loc[(df_activity_info['Quantity Field Code'].str.contains(\"HH\", regex=False) == True),\n",
    "                         unidad] = 'Hombres'\n",
    "df_activity_info.loc[(df_activity_info['Quantity Field Code'].str.contains(\"ADOTR\", regex=False) == True),\n",
    "                         unidad] = 'Otros'\n",
    "df_activity_info.loc[(df_activity_info['Quantity Field Code'].str.contains(\"OTR\", regex=False) == True),\n",
    "                         unidad] = 'Otros'"
   ]
  },
  {
   "cell_type": "markdown",
   "metadata": {},
   "source": [
    "Se agregan campos de unidades extra, para indicadores diferentes de poblacion meta"
   ]
  },
  {
   "cell_type": "code",
   "execution_count": 42,
   "metadata": {},
   "outputs": [],
   "source": [
    "df_activity_info = pd.merge(df_activity_info, indicadores_ref, how='left', left_on='codigo',\n",
    "                                    right_on='codigo')\n",
    "df_activity_info.rename(columns={'unidad_x': 'unidad', 'unidad_y': 'unidad_aux'}, inplace=True)"
   ]
  },
  {
   "cell_type": "markdown",
   "metadata": {},
   "source": [
    "Asignacion de nuevos y recurrentes"
   ]
  },
  {
   "cell_type": "code",
   "execution_count": 43,
   "metadata": {},
   "outputs": [],
   "source": [
    "df_activity_info.loc[(df_activity_info['Quantity Field Code'].str.endswith('_U') == True),\n",
    "                         frecuencia] = 'Nuevo'\n",
    "df_activity_info.loc[(df_activity_info['Quantity Field Code'].str.endswith('_N') == True),\n",
    "                         frecuencia] = 'Nuevo'\n",
    "df_activity_info.loc[(df_activity_info['Quantity Field Code'].str.endswith('_PR') == True),\n",
    "                         frecuencia] = 'Nuevo'\n",
    "df_activity_info.loc[(df_activity_info['Quantity Field Code'].str.endswith('_R') == True),\n",
    "                         frecuencia] = 'Recurrente'\n",
    "df_activity_info.loc[(df_activity_info[frecuencia].isnull() == True), frecuencia] = 'Nuevo'"
   ]
  },
  {
   "cell_type": "markdown",
   "metadata": {},
   "source": [
    "# Organizaciones"
   ]
  },
  {
   "cell_type": "markdown",
   "metadata": {},
   "source": [
    "Implementacion directa: Se hace el llenado acutomatico usando la informacion de las columas de organización y de implementador"
   ]
  },
  {
   "cell_type": "code",
   "execution_count": 44,
   "metadata": {},
   "outputs": [],
   "source": [
    "df_activity_info['implementador.nombre'] = np.where(df_activity_info['implementación'] == 'Directa',\n",
    "                                                 df_activity_info['organizacion.nombre'],\n",
    "                                                 df_activity_info['implementador.nombre'])"
   ]
  },
  {
   "cell_type": "code",
   "execution_count": 45,
   "metadata": {},
   "outputs": [],
   "source": [
    "\n",
    "Organizations_ref = Organizations_ref[Organizations_ref['Nombre_ecu'].notna()]\n",
    "Organizations_ref = Organizations_ref[['Nombre_ecu','Name','Acronym/Short Name']]\n",
    "## DONANTE\n",
    "df_activity_info = pd.merge(df_activity_info, Organizations_ref, how='left', left_on='donante.nombre',\n",
    "                                    right_on='Nombre_ecu')\n",
    "df_activity_info.rename(columns={'Acronym/Short Name': 'Acronimo Donante'}, inplace=True)\n",
    "df_activity_info.drop(['Nombre_ecu','Name'], axis=1, inplace=True)\n",
    "## IMPLEMENTADOR\n",
    "df_activity_info = pd.merge(df_activity_info, Organizations_ref, how='left', left_on='implementador.nombre',\n",
    "                                    right_on='Nombre_ecu')\n",
    "df_activity_info.rename(columns={'Acronym/Short Name': 'Acronimo Implementador'}, inplace=True)\n",
    "df_activity_info.drop(['Nombre_ecu','Name'], axis=1, inplace=True)\n",
    "## IMPLEMENTADOR EXTRA\n",
    "df_activity_info['implementador_extra.nombre'] =df_activity_info['implementador_extra.nombre'].astype(str)\n",
    "df_activity_info = pd.merge(df_activity_info, Organizations_ref, how='left', left_on='implementador_extra.nombre',\n",
    "                                    right_on='Nombre_ecu')\n",
    "df_activity_info.rename(columns={'Acronym/Short Name': 'Acronimo Implementador Extra'}, inplace=True)\n",
    "df_activity_info.drop(['Nombre_ecu','Name'], axis=1, inplace=True)"
   ]
  },
  {
   "cell_type": "markdown",
   "metadata": {},
   "source": [
    "# GTRM"
   ]
  },
  {
   "cell_type": "code",
   "execution_count": 46,
   "metadata": {},
   "outputs": [],
   "source": [
    "## Archivos Geograficos\n",
    "ruta_dpa_canton_ecuador = \"shapefiles/dpa_canton_codificado_v1_4326.shp\"\n",
    "dpa_ecuador_cantones = gpd.read_file(ruta_dpa_canton_ecuador, encoding='utf-8')\n",
    "df_activity_info['DPA_CANTON'] = df_activity_info['canton.code'].str[2:6]\n",
    "df_activity_info = pd.merge(dpa_ecuador_cantones, df_activity_info, how='left', on='DPA_CANTON')\n",
    "df_activity_info.drop_duplicates(keep='first', inplace=True)\n",
    "del df_activity_info['geometry']"
   ]
  },
  {
   "cell_type": "code",
   "execution_count": 47,
   "metadata": {},
   "outputs": [],
   "source": [
    "df_activity_info['unidad_combinada'] = np.where(((df_activity_info['unidad'] == 'Niñas')\n",
    "|\n",
    "(df_activity_info['unidad'] == 'Niños')\n",
    "|\n",
    "(df_activity_info['unidad'] == 'Mujeres')\n",
    "|\n",
    "(df_activity_info['unidad'] == 'Hombres')\n",
    "|\n",
    "(df_activity_info['unidad'] == 'Otros')\n",
    "),df_activity_info['unidad'],df_activity_info['unidad_aux'])"
   ]
  },
  {
   "cell_type": "code",
   "execution_count": 48,
   "metadata": {},
   "outputs": [],
   "source": [
    "df_activity_info.to_excel(r'C:\\Users\\jorcabrera\\OneDrive - International Organization for Migration - IOM\\InteragencyGTRM\\GTRM 2022\\IM 2022\\ActivityInfo\\DescargasMensuales\\procesados\\proc_'+mes_curso)"
   ]
  }
 ],
 "metadata": {
  "interpreter": {
   "hash": "5329477f056337a57c03f9554b4ec09986a1d6fb409cc91143668d799e53c890"
  },
  "kernelspec": {
   "display_name": "Python 3.8.5 64-bit ('activity_info_geo_env': conda)",
   "language": "python",
   "name": "python3"
  },
  "language_info": {
   "codemirror_mode": {
    "name": "ipython",
    "version": 3
   },
   "file_extension": ".py",
   "mimetype": "text/x-python",
   "name": "python",
   "nbconvert_exporter": "python",
   "pygments_lexer": "ipython3",
   "version": "3.8.5"
  },
  "orig_nbformat": 4
 },
 "nbformat": 4,
 "nbformat_minor": 2
}
