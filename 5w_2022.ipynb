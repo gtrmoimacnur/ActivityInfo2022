{
 "cells": [
  {
   "cell_type": "markdown",
   "metadata": {},
   "source": [
    "# 5W"
   ]
  },
  {
   "cell_type": "code",
   "execution_count": 1,
   "metadata": {},
   "outputs": [],
   "source": [
    "import activityinfo as AT\n",
    "import pandas as pd\n",
    "import numpy as np\n",
    "import geopandas as gpd\n",
    "import time"
   ]
  },
  {
   "cell_type": "code",
   "execution_count": 2,
   "metadata": {},
   "outputs": [],
   "source": [
    "## definimos variables para el calculo mensual\n",
    "mes_curso = 'AI2022-04.xlsx'\n",
    "mes = '2022-04'"
   ]
  },
  {
   "cell_type": "code",
   "execution_count": 3,
   "metadata": {},
   "outputs": [],
   "source": [
    "df_activity_info = pd.read_excel(r'C:\\Users\\jorcabrera\\OneDrive - International Organization for Migration - IOM\\InteragencyGTRM\\GTRM 2022\\IM 2022\\ActivityInfo\\DescargasMensuales\\procesados\\proc_'+mes_curso, index_col=0)"
   ]
  },
  {
   "cell_type": "markdown",
   "metadata": {},
   "source": [
    "# Tablas de referencia"
   ]
  },
  {
   "cell_type": "code",
   "execution_count": 4,
   "metadata": {},
   "outputs": [],
   "source": [
    "# Merge para appealing organization\n",
    "Organizations_ref = pd.read_excel(r'C:\\Users\\jorcabrera\\OneDrive - International Organization for Migration - IOM\\InteragencyGTRM\\GTRM 2022\\IM 2022\\ActivityInfo\\MasterList\\NEW_MasterList2022.xlsx', sheet_name='ImplementingPartners')\n",
    "Organizations_ref = Organizations_ref[['Nombre_ecu', 'Name']]\n",
    "Organizations_ref = Organizations_ref[Organizations_ref['Nombre_ecu'].notna()]"
   ]
  },
  {
   "cell_type": "code",
   "execution_count": 5,
   "metadata": {},
   "outputs": [],
   "source": [
    "# Sectores\n",
    "sectores_ref= pd.read_excel(r'C:\\Users\\jorcabrera\\OneDrive - International Organization for Migration - IOM\\InteragencyGTRM\\GTRM 2022\\IM 2022\\ActivityInfo\\MasterList\\NEW_MasterList2022.xlsx', sheet_name='sectores')"
   ]
  },
  {
   "cell_type": "code",
   "execution_count": 6,
   "metadata": {},
   "outputs": [],
   "source": [
    "MarcoMonitoreo_ref= pd.read_excel(r'C:\\Users\\jorcabrera\\OneDrive - International Organization for Migration - IOM\\InteragencyGTRM\\GTRM 2022\\IM 2022\\ActivityInfo\\MasterList\\NEW_MasterList2022.xlsx', sheet_name='marco_monitoreo')\n"
   ]
  },
  {
   "cell_type": "code",
   "execution_count": 7,
   "metadata": {},
   "outputs": [],
   "source": [
    "delivery_mechanism = pd.read_excel(r'C:\\Users\\jorcabrera\\OneDrive - International Organization for Migration - IOM\\InteragencyGTRM\\GTRM 2022\\IM 2022\\ActivityInfo\\MasterList\\NEW_MasterList2022.xlsx', sheet_name='delivery_mech')"
   ]
  },
  {
   "cell_type": "code",
   "execution_count": 8,
   "metadata": {},
   "outputs": [],
   "source": [
    "df_activity_info = df_activity_info[df_activity_info['Database'].notna()]\n",
    "df_activity_info['Country'] = 'Ecuador'\n",
    "df_activity_info['Country Admin1'] = df_activity_info['AInfo_Admi']\n",
    "df_activity_info['Admin2'] = df_activity_info['AInfo_Ad_2']\n",
    "df_activity_info = df_activity_info[df_activity_info['mes']==mes]"
   ]
  },
  {
   "cell_type": "code",
   "execution_count": 9,
   "metadata": {},
   "outputs": [],
   "source": [
    "df_activity_info = pd.merge(df_activity_info, Organizations_ref, how='left', left_on='donante.nombre',\n",
    "                                    right_on='Nombre_ecu')\n",
    "df_activity_info.drop(['Nombre_ecu'], axis=1, inplace=True)\n",
    "df_activity_info.rename(columns = {'Name':'Appealing organisation Name'}, inplace = True)"
   ]
  },
  {
   "cell_type": "code",
   "execution_count": 10,
   "metadata": {},
   "outputs": [],
   "source": [
    "# Implementation set up\n",
    "df_activity_info['Implementation Set up'] = np.where(df_activity_info['implementación'] == 'Directa',\n",
    "                                                 'No',\n",
    "                                                 'Yes')"
   ]
  },
  {
   "cell_type": "code",
   "execution_count": 11,
   "metadata": {},
   "outputs": [],
   "source": [
    "df_activity_info = pd.merge(df_activity_info, Organizations_ref, how='left', left_on='implementador.nombre',\n",
    "                                    right_on='Nombre_ecu')\n",
    "df_activity_info.drop(['Nombre_ecu'], axis=1, inplace=True)\n",
    "df_activity_info.rename(columns = {'Name':'Implementing partner Name'}, inplace = True)"
   ]
  },
  {
   "cell_type": "code",
   "execution_count": 12,
   "metadata": {},
   "outputs": [],
   "source": [
    "# Month\n",
    "df_activity_info['Month'] = df_activity_info['mes']\n"
   ]
  },
  {
   "cell_type": "code",
   "execution_count": 13,
   "metadata": {},
   "outputs": [],
   "source": [
    "# Subsector\n",
    "df_activity_info = pd.merge(df_activity_info, sectores_ref, how='left', left_on='sector',\n",
    "                                    right_on='sector')"
   ]
  },
  {
   "cell_type": "code",
   "execution_count": 14,
   "metadata": {},
   "outputs": [],
   "source": [
    "# Indicador\n",
    "df_activity_info['Indicator'] = df_activity_info['indicador_eng']\n",
    "df_activity_info = df_activity_info[df_activity_info['Indicator'].notna()]\n"
   ]
  },
  {
   "cell_type": "code",
   "execution_count": 15,
   "metadata": {},
   "outputs": [],
   "source": [
    "#Activity\n",
    "df_activity_info['Activity Name'] = df_activity_info['actividad']"
   ]
  },
  {
   "cell_type": "code",
   "execution_count": 16,
   "metadata": {},
   "outputs": [],
   "source": [
    "#Activity Description\n",
    "df_activity_info['Activity Description'] = ''"
   ]
  },
  {
   "cell_type": "code",
   "execution_count": 17,
   "metadata": {},
   "outputs": [],
   "source": [
    "#COVID 19 Situation\n",
    "df_activity_info['COVID 19 Situation'] = df_activity_info['¿esta_actividad_se_realiza_en_el_marco_de_respuesta_a_la_emergencia_sanitaria_por_el_covid-19?']\n",
    "df_activity_info['COVID 19 Situation'] = np.where(df_activity_info['COVID 19 Situation'] == 'Si',\n",
    "                                                 'Yes',\n",
    "                                                 'No')\n"
   ]
  },
  {
   "cell_type": "code",
   "execution_count": 18,
   "metadata": {},
   "outputs": [],
   "source": [
    "#RMRP Activity\n",
    "df_activity_info['RMRP Activity'] = df_activity_info['¿esta_actividad_ha_sido_planificada_en_el_rmrp_2022?']\n",
    "df_activity_info['RMRP Activity'] = np.where(df_activity_info['RMRP Activity'] == 'Si',\n",
    "                                                 'Yes',\n",
    "                                                 'No')"
   ]
  },
  {
   "cell_type": "code",
   "execution_count": 19,
   "metadata": {},
   "outputs": [],
   "source": [
    "#CVA\n",
    "df_activity_info['CVA'] = np.where(df_activity_info['CVA_tag'] == 'Si',\n",
    "                                                 'Yes',\n",
    "                                                 'No')\n"
   ]
  },
  {
   "cell_type": "code",
   "execution_count": 20,
   "metadata": {},
   "outputs": [],
   "source": [
    "# Value (in USD)\n",
    "USD_records = df_activity_info.pivot_table(index=['RecordId'],\n",
    "                                                       values=['Monto transferido'],\n",
    "                                                       aggfunc='max',\n",
    "                                                       fill_value=0,\n",
    "                                                       margins='False')\n",
    "df_activity_info = pd.merge(df_activity_info, USD_records, how='left', left_on='RecordId',\n",
    "                                    right_on='RecordId')\n",
    "df_activity_info.rename(columns = {'Monto transferido_y':'Value (in USD)'}, inplace = True)\n",
    "df_activity_info['Value (in USD)'] = df_activity_info['Value (in USD)'].replace(np.nan, 0)\n",
    "                                                "
   ]
  },
  {
   "cell_type": "code",
   "execution_count": 21,
   "metadata": {},
   "outputs": [
    {
     "name": "stderr",
     "output_type": "stream",
     "text": [
      "<ipython-input-21-e502d9900886>:9: SettingWithCopyWarning: \n",
      "A value is trying to be set on a copy of a slice from a DataFrame\n",
      "\n",
      "See the caveats in the documentation: https://pandas.pydata.org/pandas-docs/stable/user_guide/indexing.html#returning-a-view-versus-a-copy\n",
      "  df_5w_part.drop_duplicates(keep='first', inplace=True)\n"
     ]
    }
   ],
   "source": [
    "#Delivery mechanism\n",
    "\n",
    "df_activity_info = pd.merge(df_activity_info, delivery_mechanism, how='left', left_on='mecanismo_de_entrega',\n",
    "                                    right_on='mecanismo_de_entrega')\n",
    "df_activity_info['Delivery mechanism'] = df_activity_info['Delivery mechanism'].replace(np.nan, '')\n",
    "\n",
    "df_5w_part = df_activity_info[[\"RecordId\",\"Country\",\"Country Admin1\",\"Admin2\",\"Appealing organisation Name\",\"Implementation Set up\",\"Implementing partner Name\",\"Month\",\"Subsector\",\"Indicator\",\"Activity Name\",\"Activity Description\",\"COVID 19 Situation\",\"RMRP Activity\",\"CVA\",\"Value (in USD)\",\"Delivery mechanism\"]]\n",
    "\n",
    "df_5w_part.drop_duplicates(keep='first', inplace=True)"
   ]
  },
  {
   "cell_type": "code",
   "execution_count": 22,
   "metadata": {},
   "outputs": [],
   "source": [
    "df_activity_info['aux']= df_activity_info['población meta'] + \"-\" + df_activity_info['frecuencia'] + \"-\" + df_activity_info['unidad_combinada']"
   ]
  },
  {
   "cell_type": "code",
   "execution_count": 23,
   "metadata": {},
   "outputs": [],
   "source": [
    "df_activity_info['aux'] = df_activity_info['aux'].fillna('Quantity of output')\n",
    "auxPivot = df_activity_info.pivot(columns=['aux'], values='Value').fillna(0)\n",
    "df_activity_info = pd.merge(df_activity_info, auxPivot, left_index=True, right_index=True)\n"
   ]
  },
  {
   "cell_type": "code",
   "execution_count": 24,
   "metadata": {},
   "outputs": [],
   "source": [
    "#Quantity of output\n",
    "Quantity_of_output = df_activity_info.pivot_table(index=['RecordId'],\n",
    "                                                       values=['Quantity of output'],\n",
    "                                                       aggfunc='sum',\n",
    "                                                       fill_value=0,\n",
    "                                                       margins='False')\n",
    "df_5w_part = pd.merge(df_5w_part, Quantity_of_output, how='left', left_on='RecordId',\n",
    "                                    right_on='RecordId')"
   ]
  },
  {
   "cell_type": "code",
   "execution_count": 25,
   "metadata": {},
   "outputs": [],
   "source": [
    "# Total monthly beneficiaries\n",
    "auxPivot=auxPivot[auxPivot.columns.drop(list(auxPivot.filter(regex='# de personas')))]\n",
    "auxPivot=auxPivot[auxPivot.columns.drop('Quantity of output')]\n",
    "auxPivot['Total monthly beneficiaries']=auxPivot.sum(axis = 1, skipna = True)\n",
    "df_activity_info = pd.merge(df_activity_info, auxPivot, left_index=True, right_index=True)\n",
    "total_monthly = df_activity_info.pivot_table(index=['RecordId'],\n",
    "                                                       values=['Total monthly beneficiaries'],\n",
    "                                                       aggfunc='sum',\n",
    "                                                       fill_value=0,\n",
    "                                                       margins='False')\n",
    "df_5w_part = pd.merge(df_5w_part, total_monthly, how='left', left_on='RecordId',\n",
    "                                    right_on='RecordId')"
   ]
  },
  {
   "cell_type": "code",
   "execution_count": 26,
   "metadata": {},
   "outputs": [],
   "source": [
    "#New beneficiaries of the month\n",
    "nuevos=list(auxPivot.filter(regex='Nuevo'))\n",
    "auxPivot['New beneficiaries of the month']= auxPivot[nuevos].sum(axis=1)\n",
    "df_activity_info = pd.merge(df_activity_info, auxPivot, left_index=True, right_index=True)\n",
    "new_beneficiaries_month = df_activity_info.pivot_table(index=['RecordId'],\n",
    "                                                       values=['New beneficiaries of the month'],\n",
    "                                                       aggfunc='sum',\n",
    "                                                       fill_value=0,\n",
    "                                                       margins='False')\n",
    "df_5w_part = pd.merge(df_5w_part, new_beneficiaries_month, how='left', left_on='RecordId',\n",
    "                                    right_on='RecordId')"
   ]
  },
  {
   "cell_type": "code",
   "execution_count": 27,
   "metadata": {},
   "outputs": [],
   "source": [
    "#Refugees and Migrants IN DESTINATION\n",
    "refugiados_migrantes=list(auxPivot.filter(regex='Refugiados y migrantes-Nuevo'))\n",
    "auxPivot['Refugees and Migrants IN DESTINATION']= auxPivot[refugiados_migrantes].sum(axis=1)\n",
    "df_activity_info = pd.merge(df_activity_info, auxPivot, left_index=True, right_index=True)\n",
    "rrmm_in_destination = df_activity_info.pivot_table(index=['RecordId'],\n",
    "                                                       values=['Refugees and Migrants IN DESTINATION'],\n",
    "                                                       aggfunc='sum',\n",
    "                                                       fill_value=0,\n",
    "                                                       margins='False')\n",
    "df_5w_part = pd.merge(df_5w_part, rrmm_in_destination, how='left', left_on='RecordId',\n",
    "                                    right_on='RecordId')\n"
   ]
  },
  {
   "cell_type": "code",
   "execution_count": 28,
   "metadata": {},
   "outputs": [],
   "source": [
    "#Refugees and Migrants IN TRANSIT\n",
    "df_5w_part['Refugees and Migrants IN TRANSIT'] = 0"
   ]
  },
  {
   "cell_type": "code",
   "execution_count": 29,
   "metadata": {},
   "outputs": [],
   "source": [
    "#Host Communities Beneficiaries\n",
    "comunidad_acogida=list(auxPivot.filter(regex='Comunidad de acogida-Nuevo'))\n",
    "auxPivot['Host Communities Beneficiaries']= auxPivot[comunidad_acogida].sum(axis=1)\n",
    "df_activity_info = pd.merge(df_activity_info, auxPivot, left_index=True, right_index=True)\n",
    "ccaa_beneficiaries = df_activity_info.pivot_table(index=['RecordId'],\n",
    "                                                       values=['Host Communities Beneficiaries'],\n",
    "                                                       aggfunc='sum',\n",
    "                                                       fill_value=0,\n",
    "                                                       margins='False')\n",
    "df_5w_part = pd.merge(df_5w_part, ccaa_beneficiaries, how='left', left_on='RecordId',\n",
    "                                    right_on='RecordId')"
   ]
  },
  {
   "cell_type": "code",
   "execution_count": 30,
   "metadata": {},
   "outputs": [
    {
     "name": "stdout",
     "output_type": "stream",
     "text": [
      "['Comunidad de acogida-Nuevo-Hombres', 'Comunidad de acogida-Nuevo-Mujeres', 'Comunidad de acogida-Nuevo-Niñas', 'Comunidad de acogida-Nuevo-Niños', 'Comunidad de acogida-Nuevo-Otros']\n"
     ]
    }
   ],
   "source": [
    "print(comunidad_acogida)\n",
    "df_5w_part.to_clipboard(excel=True)"
   ]
  },
  {
   "cell_type": "code",
   "execution_count": 31,
   "metadata": {},
   "outputs": [],
   "source": [
    "#Refugees and Migrants PENDULARS\n",
    "df_5w_part['Refugees and Migrants PENDULARS'] = 0\n",
    "df_5w_part['Colombian Returnees'] = 0"
   ]
  },
  {
   "cell_type": "code",
   "execution_count": 32,
   "metadata": {},
   "outputs": [],
   "source": [
    "# Women under 18\n",
    "ninas=list(auxPivot.filter(regex='Nuevo-Niñas'))\n",
    "auxPivot['Women under 18']= auxPivot[ninas].sum(axis=1)\n",
    "df_activity_info = pd.merge(df_activity_info, auxPivot, left_index=True, right_index=True)\n",
    "ninas_beneficiaries = df_activity_info.pivot_table(index=['RecordId'],\n",
    "                                                       values=['Women under 18'],\n",
    "                                                       aggfunc='sum',\n",
    "                                                       fill_value=0,\n",
    "                                                       margins='False')\n",
    "df_5w_part = pd.merge(df_5w_part, ninas_beneficiaries, how='left', left_on='RecordId',\n",
    "                                    right_on='RecordId')"
   ]
  },
  {
   "cell_type": "code",
   "execution_count": 33,
   "metadata": {},
   "outputs": [],
   "source": [
    "# Men under 18\n",
    "ninos=list(auxPivot.filter(regex='Nuevo-Niños'))\n",
    "auxPivot['Men under 18']= auxPivot[ninos].sum(axis=1)\n",
    "df_activity_info = pd.merge(df_activity_info, auxPivot, left_index=True, right_index=True)\n",
    "ninos_beneficiaries = df_activity_info.pivot_table(index=['RecordId'],\n",
    "                                                       values=['Men under 18'],\n",
    "                                                       aggfunc='sum',\n",
    "                                                       fill_value=0,\n",
    "                                                       margins='False')\n",
    "df_5w_part = pd.merge(df_5w_part, ninos_beneficiaries, how='left', left_on='RecordId',\n",
    "                                    right_on='RecordId')"
   ]
  },
  {
   "cell_type": "code",
   "execution_count": 34,
   "metadata": {},
   "outputs": [],
   "source": [
    "#Women above 18\n",
    "mujeres=list(auxPivot.filter(regex='Nuevo-Mujeres'))\n",
    "auxPivot['Women above 18']= auxPivot[mujeres].sum(axis=1)\n",
    "df_activity_info = pd.merge(df_activity_info, auxPivot, left_index=True, right_index=True)\n",
    "mujeres_beneficiaries = df_activity_info.pivot_table(index=['RecordId'],\n",
    "                                                       values=['Women above 18'],\n",
    "                                                       aggfunc='sum',\n",
    "                                                       fill_value=0,\n",
    "                                                       margins='False')\n",
    "df_5w_part = pd.merge(df_5w_part, mujeres_beneficiaries, how='left', left_on='RecordId',\n",
    "                                    right_on='RecordId')"
   ]
  },
  {
   "cell_type": "code",
   "execution_count": 35,
   "metadata": {},
   "outputs": [],
   "source": [
    "#Men above 18\n",
    "hombres=list(auxPivot.filter(regex='Nuevo-Hombres'))\n",
    "auxPivot['Men above 18']= auxPivot[hombres].sum(axis=1)\n",
    "df_activity_info = pd.merge(df_activity_info, auxPivot, left_index=True, right_index=True)\n",
    "hombres_beneficiaries = df_activity_info.pivot_table(index=['RecordId'],\n",
    "                                                       values=['Men above 18'],\n",
    "                                                       aggfunc='sum',\n",
    "                                                       fill_value=0,\n",
    "                                                       margins='False')\n",
    "df_5w_part = pd.merge(df_5w_part, hombres_beneficiaries, how='left', left_on='RecordId',\n",
    "                                    right_on='RecordId')"
   ]
  },
  {
   "cell_type": "code",
   "execution_count": 36,
   "metadata": {},
   "outputs": [],
   "source": [
    "# Other under 18\n",
    "df_5w_part['Other under 18'] = 0"
   ]
  },
  {
   "cell_type": "code",
   "execution_count": 37,
   "metadata": {},
   "outputs": [],
   "source": [
    "#Other above 18\n",
    "otros=list(auxPivot.filter(regex='Nuevo-Otros'))\n",
    "auxPivot['Other above 18']= auxPivot[otros].sum(axis=1)\n",
    "df_activity_info = pd.merge(df_activity_info, auxPivot, left_index=True, right_index=True)\n",
    "otros_beneficiaries = df_activity_info.pivot_table(index=['RecordId'],\n",
    "                                                       values=['Other above 18'],\n",
    "                                                       aggfunc='sum',\n",
    "                                                       fill_value=0,\n",
    "                                                       margins='False')\n",
    "df_5w_part = pd.merge(df_5w_part, otros_beneficiaries, how='left', left_on='RecordId',\n",
    "                                    right_on='RecordId')"
   ]
  },
  {
   "cell_type": "code",
   "execution_count": 38,
   "metadata": {},
   "outputs": [],
   "source": [
    "#platform\n",
    "df_5w_part[\"Platform\"] = df_5w_part[\"Country\"]"
   ]
  },
  {
   "cell_type": "code",
   "execution_count": 39,
   "metadata": {},
   "outputs": [],
   "source": [
    "# final change appealing vs implementing\n",
    "\n",
    "df_5w_part['Appealing organisation Name'] = np.where(df_5w_part['Implementation Set up'] == 'No',\n",
    "                                                 df_5w_part['Implementing partner Name'],\n",
    "                                                 df_5w_part['Appealing organisation Name'])"
   ]
  },
  {
   "cell_type": "code",
   "execution_count": 40,
   "metadata": {},
   "outputs": [],
   "source": [
    "df_5w_part['Implementing partner Name'] = np.where(df_5w_part['Implementation Set up'] == 'No',\n",
    "                                                 '',\n",
    "                                                 df_5w_part['Implementing partner Name'])"
   ]
  },
  {
   "cell_type": "code",
   "execution_count": 41,
   "metadata": {},
   "outputs": [],
   "source": [
    "# chequeo de valores invalidos\n",
    "df_5w_part['rev'] = df_5w_part['Value (in USD)']+df_5w_part['Quantity of output']+df_5w_part['Total monthly beneficiaries']+df_5w_part['New beneficiaries of the month']+df_5w_part['Refugees and Migrants IN DESTINATION']+df_5w_part['Refugees and Migrants IN TRANSIT']+df_5w_part['Host Communities Beneficiaries']+df_5w_part['Refugees and Migrants PENDULARS']+df_5w_part['Colombian Returnees']+df_5w_part['Women under 18']+df_5w_part['Men under 18']+df_5w_part['Women above 18']+df_5w_part['Men above 18']+df_5w_part['Other under 18']+df_5w_part['Other above 18']\n",
    "df_5w_part = df_5w_part[df_5w_part['rev'] > 0]"
   ]
  },
  {
   "cell_type": "code",
   "execution_count": 42,
   "metadata": {},
   "outputs": [
    {
     "data": {
      "text/html": [
       "<div>\n",
       "<style scoped>\n",
       "    .dataframe tbody tr th:only-of-type {\n",
       "        vertical-align: middle;\n",
       "    }\n",
       "\n",
       "    .dataframe tbody tr th {\n",
       "        vertical-align: top;\n",
       "    }\n",
       "\n",
       "    .dataframe thead th {\n",
       "        text-align: right;\n",
       "    }\n",
       "</style>\n",
       "<table border=\"1\" class=\"dataframe\">\n",
       "  <thead>\n",
       "    <tr style=\"text-align: right;\">\n",
       "      <th></th>\n",
       "      <th>RecordId</th>\n",
       "      <th>Country</th>\n",
       "      <th>Country Admin1</th>\n",
       "      <th>Admin2</th>\n",
       "      <th>Appealing organisation Name</th>\n",
       "      <th>Implementation Set up</th>\n",
       "      <th>Implementing partner Name</th>\n",
       "      <th>Month</th>\n",
       "      <th>Subsector</th>\n",
       "      <th>Indicator</th>\n",
       "      <th>...</th>\n",
       "      <th>Refugees and Migrants PENDULARS</th>\n",
       "      <th>Colombian Returnees</th>\n",
       "      <th>Women under 18</th>\n",
       "      <th>Men under 18</th>\n",
       "      <th>Women above 18</th>\n",
       "      <th>Men above 18</th>\n",
       "      <th>Other under 18</th>\n",
       "      <th>Other above 18</th>\n",
       "      <th>Platform</th>\n",
       "      <th>rev</th>\n",
       "    </tr>\n",
       "  </thead>\n",
       "  <tbody>\n",
       "    <tr>\n",
       "      <th>0</th>\n",
       "      <td>cv87tydl30lduzo5x</td>\n",
       "      <td>Ecuador</td>\n",
       "      <td>Bolívar</td>\n",
       "      <td>Guaranda</td>\n",
       "      <td>International Organization for Migration (IOM)</td>\n",
       "      <td>No</td>\n",
       "      <td></td>\n",
       "      <td>2022-04</td>\n",
       "      <td>Shelter</td>\n",
       "      <td># of refugees and migrants provided with rent ...</td>\n",
       "      <td>...</td>\n",
       "      <td>0</td>\n",
       "      <td>0</td>\n",
       "      <td>0</td>\n",
       "      <td>1</td>\n",
       "      <td>1</td>\n",
       "      <td>1</td>\n",
       "      <td>0</td>\n",
       "      <td>0</td>\n",
       "      <td>Ecuador</td>\n",
       "      <td>12.0</td>\n",
       "    </tr>\n",
       "    <tr>\n",
       "      <th>1</th>\n",
       "      <td>cnzcpo7l30lfaet5z</td>\n",
       "      <td>Ecuador</td>\n",
       "      <td>Bolívar</td>\n",
       "      <td>Echeandía</td>\n",
       "      <td>International Organization for Migration (IOM)</td>\n",
       "      <td>No</td>\n",
       "      <td></td>\n",
       "      <td>2022-04</td>\n",
       "      <td>Shelter</td>\n",
       "      <td># of refugees and migrants provided with rent ...</td>\n",
       "      <td>...</td>\n",
       "      <td>0</td>\n",
       "      <td>0</td>\n",
       "      <td>2</td>\n",
       "      <td>1</td>\n",
       "      <td>3</td>\n",
       "      <td>1</td>\n",
       "      <td>0</td>\n",
       "      <td>0</td>\n",
       "      <td>Ecuador</td>\n",
       "      <td>28.0</td>\n",
       "    </tr>\n",
       "    <tr>\n",
       "      <th>2</th>\n",
       "      <td>cjurs84l30lcp4i5v</td>\n",
       "      <td>Ecuador</td>\n",
       "      <td>Bolívar</td>\n",
       "      <td>Caluma</td>\n",
       "      <td>International Organization for Migration (IOM)</td>\n",
       "      <td>No</td>\n",
       "      <td></td>\n",
       "      <td>2022-04</td>\n",
       "      <td>Shelter</td>\n",
       "      <td># of refugees and migrants provided with rent ...</td>\n",
       "      <td>...</td>\n",
       "      <td>0</td>\n",
       "      <td>0</td>\n",
       "      <td>0</td>\n",
       "      <td>3</td>\n",
       "      <td>1</td>\n",
       "      <td>1</td>\n",
       "      <td>0</td>\n",
       "      <td>0</td>\n",
       "      <td>Ecuador</td>\n",
       "      <td>20.0</td>\n",
       "    </tr>\n",
       "    <tr>\n",
       "      <th>3</th>\n",
       "      <td>c4sbl28l30q8thq27</td>\n",
       "      <td>Ecuador</td>\n",
       "      <td>Carchi</td>\n",
       "      <td>Tulcán</td>\n",
       "      <td>HIAS</td>\n",
       "      <td>No</td>\n",
       "      <td></td>\n",
       "      <td>2022-04</td>\n",
       "      <td>Multipurpose Cash Assistance (MPC)</td>\n",
       "      <td># of individuals benefitting from multipurpose...</td>\n",
       "      <td>...</td>\n",
       "      <td>0</td>\n",
       "      <td>0</td>\n",
       "      <td>26</td>\n",
       "      <td>32</td>\n",
       "      <td>39</td>\n",
       "      <td>12</td>\n",
       "      <td>0</td>\n",
       "      <td>0</td>\n",
       "      <td>Ecuador</td>\n",
       "      <td>4156.0</td>\n",
       "    </tr>\n",
       "    <tr>\n",
       "      <th>4</th>\n",
       "      <td>cbj96uwl325ixmol</td>\n",
       "      <td>Ecuador</td>\n",
       "      <td>Carchi</td>\n",
       "      <td>Tulcán</td>\n",
       "      <td>Norwegian Refugee Council (NRC)</td>\n",
       "      <td>No</td>\n",
       "      <td></td>\n",
       "      <td>2022-04</td>\n",
       "      <td>Multipurpose Cash Assistance (MPC)</td>\n",
       "      <td># of individuals benefitting from multipurpose...</td>\n",
       "      <td>...</td>\n",
       "      <td>0</td>\n",
       "      <td>0</td>\n",
       "      <td>0</td>\n",
       "      <td>0</td>\n",
       "      <td>39</td>\n",
       "      <td>40</td>\n",
       "      <td>0</td>\n",
       "      <td>0</td>\n",
       "      <td>Ecuador</td>\n",
       "      <td>2566.0</td>\n",
       "    </tr>\n",
       "    <tr>\n",
       "      <th>...</th>\n",
       "      <td>...</td>\n",
       "      <td>...</td>\n",
       "      <td>...</td>\n",
       "      <td>...</td>\n",
       "      <td>...</td>\n",
       "      <td>...</td>\n",
       "      <td>...</td>\n",
       "      <td>...</td>\n",
       "      <td>...</td>\n",
       "      <td>...</td>\n",
       "      <td>...</td>\n",
       "      <td>...</td>\n",
       "      <td>...</td>\n",
       "      <td>...</td>\n",
       "      <td>...</td>\n",
       "      <td>...</td>\n",
       "      <td>...</td>\n",
       "      <td>...</td>\n",
       "      <td>...</td>\n",
       "      <td>...</td>\n",
       "      <td>...</td>\n",
       "    </tr>\n",
       "    <tr>\n",
       "      <th>1050</th>\n",
       "      <td>cuiq9krl30s7u6w23</td>\n",
       "      <td>Ecuador</td>\n",
       "      <td>El Oro</td>\n",
       "      <td>Huaquillas</td>\n",
       "      <td>CARE</td>\n",
       "      <td>No</td>\n",
       "      <td></td>\n",
       "      <td>2022-04</td>\n",
       "      <td>Health</td>\n",
       "      <td># of refugees and migrants from Venezuela who ...</td>\n",
       "      <td>...</td>\n",
       "      <td>0</td>\n",
       "      <td>0</td>\n",
       "      <td>1</td>\n",
       "      <td>0</td>\n",
       "      <td>0</td>\n",
       "      <td>0</td>\n",
       "      <td>0</td>\n",
       "      <td>0</td>\n",
       "      <td>Ecuador</td>\n",
       "      <td>4.0</td>\n",
       "    </tr>\n",
       "    <tr>\n",
       "      <th>1051</th>\n",
       "      <td>cvxwgufl30ebbvk11</td>\n",
       "      <td>Ecuador</td>\n",
       "      <td>El Oro</td>\n",
       "      <td>Huaquillas</td>\n",
       "      <td>CARE</td>\n",
       "      <td>No</td>\n",
       "      <td></td>\n",
       "      <td>2022-04</td>\n",
       "      <td>Health</td>\n",
       "      <td># of refugees and migrants benefiting from pri...</td>\n",
       "      <td>...</td>\n",
       "      <td>0</td>\n",
       "      <td>0</td>\n",
       "      <td>7</td>\n",
       "      <td>8</td>\n",
       "      <td>61</td>\n",
       "      <td>24</td>\n",
       "      <td>0</td>\n",
       "      <td>0</td>\n",
       "      <td>Ecuador</td>\n",
       "      <td>1628.0</td>\n",
       "    </tr>\n",
       "    <tr>\n",
       "      <th>1052</th>\n",
       "      <td>cb8yv1jl30ebbvk15</td>\n",
       "      <td>Ecuador</td>\n",
       "      <td>El Oro</td>\n",
       "      <td>Huaquillas</td>\n",
       "      <td>CARE</td>\n",
       "      <td>No</td>\n",
       "      <td></td>\n",
       "      <td>2022-04</td>\n",
       "      <td>Health</td>\n",
       "      <td># of campaigns and people who received informa...</td>\n",
       "      <td>...</td>\n",
       "      <td>0</td>\n",
       "      <td>0</td>\n",
       "      <td>24</td>\n",
       "      <td>18</td>\n",
       "      <td>210</td>\n",
       "      <td>112</td>\n",
       "      <td>0</td>\n",
       "      <td>0</td>\n",
       "      <td>Ecuador</td>\n",
       "      <td>1456.0</td>\n",
       "    </tr>\n",
       "    <tr>\n",
       "      <th>1053</th>\n",
       "      <td>cq7s82ol30s7u6x26</td>\n",
       "      <td>Ecuador</td>\n",
       "      <td>El Oro</td>\n",
       "      <td>Huaquillas</td>\n",
       "      <td>CARE</td>\n",
       "      <td>No</td>\n",
       "      <td></td>\n",
       "      <td>2022-04</td>\n",
       "      <td>Health</td>\n",
       "      <td># of campaigns and people who received informa...</td>\n",
       "      <td>...</td>\n",
       "      <td>0</td>\n",
       "      <td>0</td>\n",
       "      <td>59</td>\n",
       "      <td>62</td>\n",
       "      <td>132</td>\n",
       "      <td>23</td>\n",
       "      <td>0</td>\n",
       "      <td>0</td>\n",
       "      <td>Ecuador</td>\n",
       "      <td>1104.0</td>\n",
       "    </tr>\n",
       "    <tr>\n",
       "      <th>1054</th>\n",
       "      <td>cdg7smal30s7u6y2g</td>\n",
       "      <td>Ecuador</td>\n",
       "      <td>El Oro</td>\n",
       "      <td>Huaquillas</td>\n",
       "      <td>CARE</td>\n",
       "      <td>No</td>\n",
       "      <td></td>\n",
       "      <td>2022-04</td>\n",
       "      <td>Health</td>\n",
       "      <td># of campaigns and people who received informa...</td>\n",
       "      <td>...</td>\n",
       "      <td>0</td>\n",
       "      <td>0</td>\n",
       "      <td>57</td>\n",
       "      <td>61</td>\n",
       "      <td>2</td>\n",
       "      <td>1</td>\n",
       "      <td>0</td>\n",
       "      <td>0</td>\n",
       "      <td>Ecuador</td>\n",
       "      <td>484.0</td>\n",
       "    </tr>\n",
       "  </tbody>\n",
       "</table>\n",
       "<p>1053 rows × 33 columns</p>\n",
       "</div>"
      ],
      "text/plain": [
       "               RecordId  Country Country Admin1      Admin2  \\\n",
       "0     cv87tydl30lduzo5x  Ecuador        Bolívar    Guaranda   \n",
       "1     cnzcpo7l30lfaet5z  Ecuador        Bolívar   Echeandía   \n",
       "2     cjurs84l30lcp4i5v  Ecuador        Bolívar      Caluma   \n",
       "3     c4sbl28l30q8thq27  Ecuador         Carchi      Tulcán   \n",
       "4      cbj96uwl325ixmol  Ecuador         Carchi      Tulcán   \n",
       "...                 ...      ...            ...         ...   \n",
       "1050  cuiq9krl30s7u6w23  Ecuador         El Oro  Huaquillas   \n",
       "1051  cvxwgufl30ebbvk11  Ecuador         El Oro  Huaquillas   \n",
       "1052  cb8yv1jl30ebbvk15  Ecuador         El Oro  Huaquillas   \n",
       "1053  cq7s82ol30s7u6x26  Ecuador         El Oro  Huaquillas   \n",
       "1054  cdg7smal30s7u6y2g  Ecuador         El Oro  Huaquillas   \n",
       "\n",
       "                         Appealing organisation Name Implementation Set up  \\\n",
       "0     International Organization for Migration (IOM)                    No   \n",
       "1     International Organization for Migration (IOM)                    No   \n",
       "2     International Organization for Migration (IOM)                    No   \n",
       "3                                               HIAS                    No   \n",
       "4                    Norwegian Refugee Council (NRC)                    No   \n",
       "...                                              ...                   ...   \n",
       "1050                                            CARE                    No   \n",
       "1051                                            CARE                    No   \n",
       "1052                                            CARE                    No   \n",
       "1053                                            CARE                    No   \n",
       "1054                                            CARE                    No   \n",
       "\n",
       "     Implementing partner Name    Month                           Subsector  \\\n",
       "0                               2022-04                             Shelter   \n",
       "1                               2022-04                             Shelter   \n",
       "2                               2022-04                             Shelter   \n",
       "3                               2022-04  Multipurpose Cash Assistance (MPC)   \n",
       "4                               2022-04  Multipurpose Cash Assistance (MPC)   \n",
       "...                        ...      ...                                 ...   \n",
       "1050                            2022-04                              Health   \n",
       "1051                            2022-04                              Health   \n",
       "1052                            2022-04                              Health   \n",
       "1053                            2022-04                              Health   \n",
       "1054                            2022-04                              Health   \n",
       "\n",
       "                                              Indicator  ...  \\\n",
       "0     # of refugees and migrants provided with rent ...  ...   \n",
       "1     # of refugees and migrants provided with rent ...  ...   \n",
       "2     # of refugees and migrants provided with rent ...  ...   \n",
       "3     # of individuals benefitting from multipurpose...  ...   \n",
       "4     # of individuals benefitting from multipurpose...  ...   \n",
       "...                                                 ...  ...   \n",
       "1050  # of refugees and migrants from Venezuela who ...  ...   \n",
       "1051  # of refugees and migrants benefiting from pri...  ...   \n",
       "1052  # of campaigns and people who received informa...  ...   \n",
       "1053  # of campaigns and people who received informa...  ...   \n",
       "1054  # of campaigns and people who received informa...  ...   \n",
       "\n",
       "     Refugees and Migrants PENDULARS Colombian Returnees Women under 18  \\\n",
       "0                                  0                   0              0   \n",
       "1                                  0                   0              2   \n",
       "2                                  0                   0              0   \n",
       "3                                  0                   0             26   \n",
       "4                                  0                   0              0   \n",
       "...                              ...                 ...            ...   \n",
       "1050                               0                   0              1   \n",
       "1051                               0                   0              7   \n",
       "1052                               0                   0             24   \n",
       "1053                               0                   0             59   \n",
       "1054                               0                   0             57   \n",
       "\n",
       "     Men under 18 Women above 18  Men above 18 Other under 18  Other above 18  \\\n",
       "0               1              1             1              0               0   \n",
       "1               1              3             1              0               0   \n",
       "2               3              1             1              0               0   \n",
       "3              32             39            12              0               0   \n",
       "4               0             39            40              0               0   \n",
       "...           ...            ...           ...            ...             ...   \n",
       "1050            0              0             0              0               0   \n",
       "1051            8             61            24              0               0   \n",
       "1052           18            210           112              0               0   \n",
       "1053           62            132            23              0               0   \n",
       "1054           61              2             1              0               0   \n",
       "\n",
       "      Platform     rev  \n",
       "0      Ecuador    12.0  \n",
       "1      Ecuador    28.0  \n",
       "2      Ecuador    20.0  \n",
       "3      Ecuador  4156.0  \n",
       "4      Ecuador  2566.0  \n",
       "...        ...     ...  \n",
       "1050   Ecuador     4.0  \n",
       "1051   Ecuador  1628.0  \n",
       "1052   Ecuador  1456.0  \n",
       "1053   Ecuador  1104.0  \n",
       "1054   Ecuador   484.0  \n",
       "\n",
       "[1053 rows x 33 columns]"
      ]
     },
     "metadata": {},
     "output_type": "display_data"
    }
   ],
   "source": [
    "display(df_5w_part)"
   ]
  },
  {
   "cell_type": "code",
   "execution_count": 43,
   "metadata": {},
   "outputs": [],
   "source": [
    "df_5w_part.to_clipboard(excel=True)\n",
    "df_5w_part.to_excel('C:\\\\Users\\\\jorcabrera\\\\OneDrive - International Organization for Migration - IOM\\\\InteragencyGTRM\\GTRM 2022\\\\IM 2022\\\\Monitoreo_5w\\\\' + mes + '.xlsx')"
   ]
  }
 ],
 "metadata": {
  "interpreter": {
   "hash": "27b2718562775da974095f47ecc4a2cf976f9eabdcb2d07e0ec2cb4ab5d96767"
  },
  "kernelspec": {
   "display_name": "Python 3.8.5 ('activity_info_geo_env')",
   "language": "python",
   "name": "python3"
  },
  "language_info": {
   "codemirror_mode": {
    "name": "ipython",
    "version": 3
   },
   "file_extension": ".py",
   "mimetype": "text/x-python",
   "name": "python",
   "nbconvert_exporter": "python",
   "pygments_lexer": "ipython3",
   "version": "3.8.5"
  },
  "orig_nbformat": 4
 },
 "nbformat": 4,
 "nbformat_minor": 2
}
