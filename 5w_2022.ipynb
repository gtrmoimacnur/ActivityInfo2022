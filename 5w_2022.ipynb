{
 "cells": [
  {
   "cell_type": "markdown",
   "metadata": {},
   "source": [
    "# 5W"
   ]
  },
  {
   "cell_type": "code",
   "execution_count": 1107,
   "metadata": {},
   "outputs": [],
   "source": [
    "import activityinfo as AT\n",
    "import pandas as pd\n",
    "import numpy as np\n",
    "import geopandas as gpd\n",
    "import time"
   ]
  },
  {
   "cell_type": "code",
   "execution_count": 1108,
   "metadata": {},
   "outputs": [],
   "source": [
    "## definimos variables para el calculo mensual\n",
    "mes_curso = 'AI2022-02.xlsx'\n",
    "mes = '2022-02'"
   ]
  },
  {
   "cell_type": "code",
   "execution_count": 1109,
   "metadata": {},
   "outputs": [],
   "source": [
    "df_activity_info = pd.read_excel(r'C:\\Users\\jorcabrera\\OneDrive - International Organization for Migration - IOM\\InteragencyGTRM\\GTRM 2022\\IM 2022\\ActivityInfo\\DescargasMensuales\\procesados\\proc_'+mes_curso, index_col=0)"
   ]
  },
  {
   "cell_type": "markdown",
   "metadata": {},
   "source": [
    "# Tablas de referencia"
   ]
  },
  {
   "cell_type": "code",
   "execution_count": 1110,
   "metadata": {},
   "outputs": [],
   "source": [
    "# Merge para appealing organization\n",
    "Organizations_ref = pd.read_excel(r'C:\\Users\\jorcabrera\\OneDrive - International Organization for Migration - IOM\\InteragencyGTRM\\GTRM 2022\\IM 2022\\ActivityInfo\\MasterList\\NEW_MasterList2022.xlsx', sheet_name='ImplementingPartners')\n",
    "Organizations_ref = Organizations_ref[['Nombre_ecu', 'Name']]\n",
    "Organizations_ref = Organizations_ref[Organizations_ref['Nombre_ecu'].notna()]"
   ]
  },
  {
   "cell_type": "code",
   "execution_count": 1111,
   "metadata": {},
   "outputs": [],
   "source": [
    "# Sectores\n",
    "sectores_ref= pd.read_excel(r'C:\\Users\\jorcabrera\\OneDrive - International Organization for Migration - IOM\\InteragencyGTRM\\GTRM 2022\\IM 2022\\ActivityInfo\\MasterList\\NEW_MasterList2022.xlsx', sheet_name='sectores')"
   ]
  },
  {
   "cell_type": "code",
   "execution_count": 1112,
   "metadata": {},
   "outputs": [],
   "source": [
    "MarcoMonitoreo_ref= pd.read_excel(r'C:\\Users\\jorcabrera\\OneDrive - International Organization for Migration - IOM\\InteragencyGTRM\\GTRM 2022\\IM 2022\\ActivityInfo\\MasterList\\NEW_MasterList2022.xlsx', sheet_name='marco_monitoreo')\n"
   ]
  },
  {
   "cell_type": "code",
   "execution_count": 1113,
   "metadata": {},
   "outputs": [],
   "source": [
    "delivery_mechanism = pd.read_excel(r'C:\\Users\\jorcabrera\\OneDrive - International Organization for Migration - IOM\\InteragencyGTRM\\GTRM 2022\\IM 2022\\ActivityInfo\\MasterList\\NEW_MasterList2022.xlsx', sheet_name='delivery_mech')"
   ]
  },
  {
   "cell_type": "code",
   "execution_count": 1114,
   "metadata": {},
   "outputs": [],
   "source": [
    "df_activity_info = df_activity_info[df_activity_info['Database'].notna()]\n",
    "df_activity_info['Country'] = 'Ecuador'\n",
    "df_activity_info['Country Admin1'] = df_activity_info['DPA_DESPRO'].str.title()\n",
    "df_activity_info['Admin2'] = df_activity_info['DPA_DESCAN'].str.title()\n",
    "df_activity_info = df_activity_info[df_activity_info['mes']==mes]"
   ]
  },
  {
   "cell_type": "code",
   "execution_count": 1115,
   "metadata": {},
   "outputs": [],
   "source": [
    "df_activity_info = pd.merge(df_activity_info, Organizations_ref, how='left', left_on='donante.nombre',\n",
    "                                    right_on='Nombre_ecu')\n",
    "df_activity_info.drop(['Nombre_ecu'], axis=1, inplace=True)\n",
    "df_activity_info.rename(columns = {'Name':'Appealing organisation Name'}, inplace = True)"
   ]
  },
  {
   "cell_type": "code",
   "execution_count": 1116,
   "metadata": {},
   "outputs": [],
   "source": [
    "# Implementation set up\n",
    "df_activity_info['Implementation Set up'] = np.where(df_activity_info['implementación'] == 'Directa',\n",
    "                                                 'No',\n",
    "                                                 'Yes')"
   ]
  },
  {
   "cell_type": "code",
   "execution_count": 1117,
   "metadata": {},
   "outputs": [],
   "source": [
    "df_activity_info = pd.merge(df_activity_info, Organizations_ref, how='left', left_on='implementador.nombre',\n",
    "                                    right_on='Nombre_ecu')\n",
    "df_activity_info.drop(['Nombre_ecu'], axis=1, inplace=True)\n",
    "df_activity_info.rename(columns = {'Name':'Implementing partner Name'}, inplace = True)"
   ]
  },
  {
   "cell_type": "code",
   "execution_count": 1118,
   "metadata": {},
   "outputs": [],
   "source": [
    "# Month\n",
    "df_activity_info['Month'] = df_activity_info['mes']\n"
   ]
  },
  {
   "cell_type": "code",
   "execution_count": 1119,
   "metadata": {},
   "outputs": [],
   "source": [
    "# Subsector\n",
    "df_activity_info = pd.merge(df_activity_info, sectores_ref, how='left', left_on='sector',\n",
    "                                    right_on='sector')"
   ]
  },
  {
   "cell_type": "code",
   "execution_count": 1120,
   "metadata": {},
   "outputs": [],
   "source": [
    "# Indicador\n",
    "df_activity_info['Indicator'] = df_activity_info['indicador_eng']\n",
    "df_activity_info = df_activity_info[df_activity_info['Indicator'].notna()]\n"
   ]
  },
  {
   "cell_type": "code",
   "execution_count": 1121,
   "metadata": {},
   "outputs": [],
   "source": [
    "#Activity\n",
    "df_activity_info['Activity Name'] = df_activity_info['actividad']"
   ]
  },
  {
   "cell_type": "code",
   "execution_count": 1122,
   "metadata": {},
   "outputs": [],
   "source": [
    "#Activity Description\n",
    "df_activity_info['Activity Description'] = ''"
   ]
  },
  {
   "cell_type": "code",
   "execution_count": 1123,
   "metadata": {},
   "outputs": [],
   "source": [
    "#COVID 19 Situation\n",
    "df_activity_info['COVID 19 Situation'] = df_activity_info['¿esta_actividad_se_realiza_en_el_marco_de_respuesta_a_la_emergencia_sanitaria_por_el_covid-19?']\n",
    "df_activity_info['COVID 19 Situation'] = np.where(df_activity_info['COVID 19 Situation'] == 'Si',\n",
    "                                                 'Yes',\n",
    "                                                 'No')\n"
   ]
  },
  {
   "cell_type": "code",
   "execution_count": 1124,
   "metadata": {},
   "outputs": [],
   "source": [
    "#RMRP Activity\n",
    "df_activity_info['RMRP Activity'] = df_activity_info['¿esta_actividad_ha_sido_planificada_en_el_rmrp_2022?']\n",
    "df_activity_info['RMRP Activity'] = np.where(df_activity_info['RMRP Activity'] == 'Si',\n",
    "                                                 'Yes',\n",
    "                                                 'No')"
   ]
  },
  {
   "cell_type": "code",
   "execution_count": 1125,
   "metadata": {},
   "outputs": [],
   "source": [
    "#CVA\n",
    "df_activity_info['CVA'] = np.where(df_activity_info['CVA_tag'] == 'Si',\n",
    "                                                 'Yes',\n",
    "                                                 'No')\n"
   ]
  },
  {
   "cell_type": "code",
   "execution_count": 1126,
   "metadata": {},
   "outputs": [],
   "source": [
    "# Value (in USD)\n",
    "USD_records = df_activity_info.pivot_table(index=['RecordId'],\n",
    "                                                       values=['Monto transferido'],\n",
    "                                                       aggfunc='max',\n",
    "                                                       fill_value=0,\n",
    "                                                       margins='False')\n",
    "df_activity_info = pd.merge(df_activity_info, USD_records, how='left', left_on='RecordId',\n",
    "                                    right_on='RecordId')\n",
    "df_activity_info.rename(columns = {'Monto transferido_y':'Value (in USD)'}, inplace = True)\n",
    "df_activity_info['Value (in USD)'] = df_activity_info['Value (in USD)'].replace(np.nan, 0)\n",
    "                                                "
   ]
  },
  {
   "cell_type": "code",
   "execution_count": 1127,
   "metadata": {},
   "outputs": [
    {
     "name": "stderr",
     "output_type": "stream",
     "text": [
      "<ipython-input-1127-e502d9900886>:9: SettingWithCopyWarning: \n",
      "A value is trying to be set on a copy of a slice from a DataFrame\n",
      "\n",
      "See the caveats in the documentation: https://pandas.pydata.org/pandas-docs/stable/user_guide/indexing.html#returning-a-view-versus-a-copy\n",
      "  df_5w_part.drop_duplicates(keep='first', inplace=True)\n"
     ]
    }
   ],
   "source": [
    "#Delivery mechanism\n",
    "\n",
    "df_activity_info = pd.merge(df_activity_info, delivery_mechanism, how='left', left_on='mecanismo_de_entrega',\n",
    "                                    right_on='mecanismo_de_entrega')\n",
    "df_activity_info['Delivery mechanism'] = df_activity_info['Delivery mechanism'].replace(np.nan, '')\n",
    "\n",
    "df_5w_part = df_activity_info[[\"RecordId\",\"Country\",\"Country Admin1\",\"Admin2\",\"Appealing organisation Name\",\"Implementation Set up\",\"Implementing partner Name\",\"Month\",\"Subsector\",\"Indicator\",\"Activity Name\",\"Activity Description\",\"COVID 19 Situation\",\"RMRP Activity\",\"CVA\",\"Value (in USD)\",\"Delivery mechanism\"]]\n",
    "\n",
    "df_5w_part.drop_duplicates(keep='first', inplace=True)"
   ]
  },
  {
   "cell_type": "code",
   "execution_count": 1128,
   "metadata": {},
   "outputs": [],
   "source": [
    "df_activity_info['aux']= df_activity_info['población meta'] + \"-\" + df_activity_info['frecuencia'] + \"-\" + df_activity_info['unidad_combinada']"
   ]
  },
  {
   "cell_type": "code",
   "execution_count": 1129,
   "metadata": {},
   "outputs": [],
   "source": [
    "df_activity_info['aux'] = df_activity_info['aux'].fillna('Quantity of output')\n",
    "auxPivot = df_activity_info.pivot(columns=['aux'], values='Value').fillna(0)\n",
    "df_activity_info = pd.merge(df_activity_info, auxPivot, left_index=True, right_index=True)\n"
   ]
  },
  {
   "cell_type": "code",
   "execution_count": 1130,
   "metadata": {},
   "outputs": [],
   "source": [
    "#Quantity of output\n",
    "Quantity_of_output = df_activity_info.pivot_table(index=['RecordId'],\n",
    "                                                       values=['Quantity of output'],\n",
    "                                                       aggfunc='sum',\n",
    "                                                       fill_value=0,\n",
    "                                                       margins='False')\n",
    "df_5w_part = pd.merge(df_5w_part, Quantity_of_output, how='left', left_on='RecordId',\n",
    "                                    right_on='RecordId')"
   ]
  },
  {
   "cell_type": "code",
   "execution_count": 1131,
   "metadata": {},
   "outputs": [],
   "source": [
    "# Total monthly beneficiaries\n",
    "auxPivot=auxPivot[auxPivot.columns.drop(list(auxPivot.filter(regex='# de personas')))]\n",
    "auxPivot=auxPivot[auxPivot.columns.drop('Quantity of output')]\n",
    "auxPivot['Total monthly beneficiaries']=auxPivot.sum(axis = 1, skipna = True)\n",
    "df_activity_info = pd.merge(df_activity_info, auxPivot, left_index=True, right_index=True)\n",
    "total_monthly = df_activity_info.pivot_table(index=['RecordId'],\n",
    "                                                       values=['Total monthly beneficiaries'],\n",
    "                                                       aggfunc='sum',\n",
    "                                                       fill_value=0,\n",
    "                                                       margins='False')\n",
    "df_5w_part = pd.merge(df_5w_part, total_monthly, how='left', left_on='RecordId',\n",
    "                                    right_on='RecordId')"
   ]
  },
  {
   "cell_type": "code",
   "execution_count": 1132,
   "metadata": {},
   "outputs": [],
   "source": [
    "#New beneficiaries of the month\n",
    "nuevos=list(auxPivot.filter(regex='Nuevo'))\n",
    "auxPivot['New beneficiaries of the month']= auxPivot[nuevos].sum(axis=1)\n",
    "df_activity_info = pd.merge(df_activity_info, auxPivot, left_index=True, right_index=True)\n",
    "new_beneficiaries_month = df_activity_info.pivot_table(index=['RecordId'],\n",
    "                                                       values=['New beneficiaries of the month'],\n",
    "                                                       aggfunc='sum',\n",
    "                                                       fill_value=0,\n",
    "                                                       margins='False')\n",
    "df_5w_part = pd.merge(df_5w_part, new_beneficiaries_month, how='left', left_on='RecordId',\n",
    "                                    right_on='RecordId')"
   ]
  },
  {
   "cell_type": "code",
   "execution_count": 1133,
   "metadata": {},
   "outputs": [],
   "source": [
    "#Refugees and Migrants IN DESTINATION\n",
    "refugiados_migrantes=list(auxPivot.filter(regex='Refugiados y migrantes'))\n",
    "auxPivot['Refugees and Migrants IN DESTINATION']= auxPivot[refugiados_migrantes].sum(axis=1)\n",
    "df_activity_info = pd.merge(df_activity_info, auxPivot, left_index=True, right_index=True)\n",
    "rrmm_in_destination = df_activity_info.pivot_table(index=['RecordId'],\n",
    "                                                       values=['Refugees and Migrants IN DESTINATION'],\n",
    "                                                       aggfunc='sum',\n",
    "                                                       fill_value=0,\n",
    "                                                       margins='False')\n",
    "df_5w_part = pd.merge(df_5w_part, rrmm_in_destination, how='left', left_on='RecordId',\n",
    "                                    right_on='RecordId')\n"
   ]
  },
  {
   "cell_type": "code",
   "execution_count": 1134,
   "metadata": {},
   "outputs": [],
   "source": [
    "#Refugees and Migrants IN TRANSIT\n",
    "df_5w_part['Refugees and Migrants IN TRANSIT'] = 0"
   ]
  },
  {
   "cell_type": "code",
   "execution_count": null,
   "metadata": {},
   "outputs": [],
   "source": [
    "#Host Communities Beneficiaries\n",
    "comunidad_acogida=list(auxPivot.filter(regex='Comunidad de acogida'))\n",
    "auxPivot['Host Communities Beneficiaries']= auxPivot[comunidad_acogida].sum(axis=1)\n",
    "df_activity_info = pd.merge(df_activity_info, auxPivot, left_index=True, right_index=True)\n",
    "ccaa_beneficiaries = df_activity_info.pivot_table(index=['RecordId'],\n",
    "                                                       values=['Host Communities Beneficiaries'],\n",
    "                                                       aggfunc='sum',\n",
    "                                                       fill_value=0,\n",
    "                                                       margins='False')\n",
    "df_5w_part = pd.merge(df_5w_part, ccaa_beneficiaries, how='left', left_on='RecordId',\n",
    "                                    right_on='RecordId')"
   ]
  },
  {
   "cell_type": "code",
   "execution_count": null,
   "metadata": {},
   "outputs": [],
   "source": [
    "#Refugees and Migrants PENDULARS\n",
    "df_5w_part['Refugees and Migrants PENDULARS'] = 0\n",
    "df_5w_part['Colombian Returnees'] = 0"
   ]
  },
  {
   "cell_type": "code",
   "execution_count": null,
   "metadata": {},
   "outputs": [],
   "source": [
    "# Women under 18\n",
    "ninas=list(auxPivot.filter(regex='Niñas'))\n",
    "auxPivot['Women under 18']= auxPivot[ninas].sum(axis=1)\n",
    "df_activity_info = pd.merge(df_activity_info, auxPivot, left_index=True, right_index=True)\n",
    "ninas_beneficiaries = df_activity_info.pivot_table(index=['RecordId'],\n",
    "                                                       values=['Women under 18'],\n",
    "                                                       aggfunc='sum',\n",
    "                                                       fill_value=0,\n",
    "                                                       margins='False')\n",
    "df_5w_part = pd.merge(df_5w_part, ninas_beneficiaries, how='left', left_on='RecordId',\n",
    "                                    right_on='RecordId')"
   ]
  },
  {
   "cell_type": "code",
   "execution_count": null,
   "metadata": {},
   "outputs": [],
   "source": [
    "# Men under 18\n",
    "ninos=list(auxPivot.filter(regex='Niños'))\n",
    "auxPivot['Men under 18']= auxPivot[ninos].sum(axis=1)\n",
    "df_activity_info = pd.merge(df_activity_info, auxPivot, left_index=True, right_index=True)\n",
    "ninos_beneficiaries = df_activity_info.pivot_table(index=['RecordId'],\n",
    "                                                       values=['Men under 18'],\n",
    "                                                       aggfunc='sum',\n",
    "                                                       fill_value=0,\n",
    "                                                       margins='False')\n",
    "df_5w_part = pd.merge(df_5w_part, ninos_beneficiaries, how='left', left_on='RecordId',\n",
    "                                    right_on='RecordId')"
   ]
  },
  {
   "cell_type": "code",
   "execution_count": null,
   "metadata": {},
   "outputs": [],
   "source": [
    "#Women above 18\n",
    "mujeres=list(auxPivot.filter(regex='Mujeres'))\n",
    "auxPivot['Women above 18']= auxPivot[mujeres].sum(axis=1)\n",
    "df_activity_info = pd.merge(df_activity_info, auxPivot, left_index=True, right_index=True)\n",
    "mujeres_beneficiaries = df_activity_info.pivot_table(index=['RecordId'],\n",
    "                                                       values=['Women above 18'],\n",
    "                                                       aggfunc='sum',\n",
    "                                                       fill_value=0,\n",
    "                                                       margins='False')\n",
    "df_5w_part = pd.merge(df_5w_part, mujeres_beneficiaries, how='left', left_on='RecordId',\n",
    "                                    right_on='RecordId')"
   ]
  },
  {
   "cell_type": "code",
   "execution_count": null,
   "metadata": {},
   "outputs": [],
   "source": [
    "#Men above 18\n",
    "hombres=list(auxPivot.filter(regex='Hombres'))\n",
    "auxPivot['Men above 18']= auxPivot[hombres].sum(axis=1)\n",
    "df_activity_info = pd.merge(df_activity_info, auxPivot, left_index=True, right_index=True)\n",
    "hombres_beneficiaries = df_activity_info.pivot_table(index=['RecordId'],\n",
    "                                                       values=['Men above 18'],\n",
    "                                                       aggfunc='sum',\n",
    "                                                       fill_value=0,\n",
    "                                                       margins='False')\n",
    "df_5w_part = pd.merge(df_5w_part, hombres_beneficiaries, how='left', left_on='RecordId',\n",
    "                                    right_on='RecordId')"
   ]
  },
  {
   "cell_type": "code",
   "execution_count": null,
   "metadata": {},
   "outputs": [],
   "source": [
    "# Other under 18\n",
    "df_5w_part['Other under 18'] = 0"
   ]
  },
  {
   "cell_type": "code",
   "execution_count": null,
   "metadata": {},
   "outputs": [],
   "source": [
    "#Other above 18\n",
    "otros=list(auxPivot.filter(regex='Otros'))\n",
    "auxPivot['Other above 18']= auxPivot[otros].sum(axis=1)\n",
    "df_activity_info = pd.merge(df_activity_info, auxPivot, left_index=True, right_index=True)\n",
    "otros_beneficiaries = df_activity_info.pivot_table(index=['RecordId'],\n",
    "                                                       values=['Other above 18'],\n",
    "                                                       aggfunc='sum',\n",
    "                                                       fill_value=0,\n",
    "                                                       margins='False')\n",
    "df_5w_part = pd.merge(df_5w_part, otros_beneficiaries, how='left', left_on='RecordId',\n",
    "                                    right_on='RecordId')"
   ]
  },
  {
   "cell_type": "code",
   "execution_count": null,
   "metadata": {},
   "outputs": [],
   "source": [
    "#platform\n",
    "df_5w_part[\"Platform\"] = df_5w_part[\"Country\"]"
   ]
  },
  {
   "cell_type": "code",
   "execution_count": null,
   "metadata": {},
   "outputs": [],
   "source": [
    "df_activity_info.to_clipboard(excel=True)"
   ]
  },
  {
   "cell_type": "code",
   "execution_count": null,
   "metadata": {},
   "outputs": [],
   "source": [
    "# final change appealing vs implementing\n",
    "\n",
    "df_5w_part['Appealing organisation Name'] = np.where(df_5w_part['Implementation Set up'] == 'No',\n",
    "                                                 df_5w_part['Implementing partner Name'],\n",
    "                                                 df_5w_part['Appealing organisation Name'])"
   ]
  },
  {
   "cell_type": "code",
   "execution_count": null,
   "metadata": {},
   "outputs": [],
   "source": [
    "df_5w_part['Implementing partner Name'] = np.where(df_5w_part['Implementation Set up'] == 'No',\n",
    "                                                 '',\n",
    "                                                 df_5w_part['Implementing partner Name'])"
   ]
  },
  {
   "cell_type": "code",
   "execution_count": null,
   "metadata": {},
   "outputs": [],
   "source": [
    "df_5w_part.to_clipboard(excel=True)"
   ]
  }
 ],
 "metadata": {
  "interpreter": {
   "hash": "5329477f056337a57c03f9554b4ec09986a1d6fb409cc91143668d799e53c890"
  },
  "kernelspec": {
   "display_name": "Python 3.8.5 ('activity_info_geo_env')",
   "language": "python",
   "name": "python3"
  },
  "language_info": {
   "codemirror_mode": {
    "name": "ipython",
    "version": 3
   },
   "file_extension": ".py",
   "mimetype": "text/x-python",
   "name": "python",
   "nbconvert_exporter": "python",
   "pygments_lexer": "ipython3",
   "version": "3.8.5"
  },
  "orig_nbformat": 4
 },
 "nbformat": 4,
 "nbformat_minor": 2
}
