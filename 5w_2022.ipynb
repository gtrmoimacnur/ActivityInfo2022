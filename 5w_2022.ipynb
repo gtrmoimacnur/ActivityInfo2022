{
 "cells": [
  {
   "cell_type": "markdown",
   "metadata": {},
   "source": [
    "# 5W"
   ]
  },
  {
   "cell_type": "code",
   "execution_count": 186,
   "metadata": {},
   "outputs": [],
   "source": [
    "import activityinfo as AT\n",
    "import pandas as pd\n",
    "import numpy as np\n",
    "import geopandas as gpd\n",
    "import time"
   ]
  },
  {
   "cell_type": "code",
   "execution_count": 187,
   "metadata": {},
   "outputs": [],
   "source": [
    "## definimos variables para el calculo mensual\n",
    "mes_curso = 'AI2022-02.xlsx'\n",
    "mes = '2022-01'"
   ]
  },
  {
   "cell_type": "code",
   "execution_count": 188,
   "metadata": {},
   "outputs": [],
   "source": [
    "df_activity_info = pd.read_excel(r'C:\\Users\\jorcabrera\\OneDrive - International Organization for Migration - IOM\\InteragencyGTRM\\GTRM 2022\\IM 2022\\ActivityInfo\\DescargasMensuales\\procesados\\proc_'+mes_curso, index_col=0)"
   ]
  },
  {
   "cell_type": "markdown",
   "metadata": {},
   "source": [
    "# Tablas de referencia"
   ]
  },
  {
   "cell_type": "code",
   "execution_count": 189,
   "metadata": {},
   "outputs": [],
   "source": [
    "# Merge para appealing organization\n",
    "Organizations_ref = pd.read_excel(r'C:\\Users\\jorcabrera\\OneDrive - International Organization for Migration - IOM\\InteragencyGTRM\\GTRM 2022\\IM 2022\\ActivityInfo\\MasterList\\NEW_MasterList2022.xlsx', sheet_name='ImplementingPartners')\n",
    "Organizations_ref = Organizations_ref[['Nombre_ecu', 'Name']]\n",
    "Organizations_ref = Organizations_ref[Organizations_ref['Nombre_ecu'].notna()]"
   ]
  },
  {
   "cell_type": "code",
   "execution_count": 190,
   "metadata": {},
   "outputs": [],
   "source": [
    "# Sectores\n",
    "sectores_ref= pd.read_excel(r'C:\\Users\\jorcabrera\\OneDrive - International Organization for Migration - IOM\\InteragencyGTRM\\GTRM 2022\\IM 2022\\ActivityInfo\\MasterList\\NEW_MasterList2022.xlsx', sheet_name='sectores')"
   ]
  },
  {
   "cell_type": "code",
   "execution_count": 191,
   "metadata": {},
   "outputs": [],
   "source": [
    "MarcoMonitoreo_ref= pd.read_excel(r'C:\\Users\\jorcabrera\\OneDrive - International Organization for Migration - IOM\\InteragencyGTRM\\GTRM 2022\\IM 2022\\ActivityInfo\\MasterList\\NEW_MasterList2022.xlsx', sheet_name='marco_monitoreo')\n"
   ]
  },
  {
   "cell_type": "code",
   "execution_count": 192,
   "metadata": {},
   "outputs": [],
   "source": [
    "delivery_mechanism = pd.read_excel(r'C:\\Users\\jorcabrera\\OneDrive - International Organization for Migration - IOM\\InteragencyGTRM\\GTRM 2022\\IM 2022\\ActivityInfo\\MasterList\\NEW_MasterList2022.xlsx', sheet_name='delivery_mech')"
   ]
  },
  {
   "cell_type": "code",
   "execution_count": 193,
   "metadata": {},
   "outputs": [],
   "source": [
    "df_activity_info = df_activity_info[df_activity_info['Database'].notna()]\n",
    "df_activity_info['Country'] = 'Ecuador'\n",
    "df_activity_info['Country Admin1'] = df_activity_info['AInfo_Admi']\n",
    "df_activity_info['Admin2'] = df_activity_info['AInfo_Ad_2']\n",
    "df_activity_info = df_activity_info[df_activity_info['mes']==mes]"
   ]
  },
  {
   "cell_type": "code",
   "execution_count": 194,
   "metadata": {},
   "outputs": [],
   "source": [
    "df_activity_info = pd.merge(df_activity_info, Organizations_ref, how='left', left_on='donante.nombre',\n",
    "                                    right_on='Nombre_ecu')\n",
    "df_activity_info.drop(['Nombre_ecu'], axis=1, inplace=True)\n",
    "df_activity_info.rename(columns = {'Name':'Appealing organisation Name'}, inplace = True)"
   ]
  },
  {
   "cell_type": "code",
   "execution_count": 195,
   "metadata": {},
   "outputs": [],
   "source": [
    "# Implementation set up\n",
    "df_activity_info['Implementation Set up'] = np.where(df_activity_info['implementación'] == 'Directa',\n",
    "                                                 'No',\n",
    "                                                 'Yes')"
   ]
  },
  {
   "cell_type": "code",
   "execution_count": 196,
   "metadata": {},
   "outputs": [],
   "source": [
    "df_activity_info = pd.merge(df_activity_info, Organizations_ref, how='left', left_on='implementador.nombre',\n",
    "                                    right_on='Nombre_ecu')\n",
    "df_activity_info.drop(['Nombre_ecu'], axis=1, inplace=True)\n",
    "df_activity_info.rename(columns = {'Name':'Implementing partner Name'}, inplace = True)"
   ]
  },
  {
   "cell_type": "code",
   "execution_count": 197,
   "metadata": {},
   "outputs": [],
   "source": [
    "# Month\n",
    "df_activity_info['Month'] = df_activity_info['mes']\n"
   ]
  },
  {
   "cell_type": "code",
   "execution_count": 198,
   "metadata": {},
   "outputs": [],
   "source": [
    "# Subsector\n",
    "df_activity_info = pd.merge(df_activity_info, sectores_ref, how='left', left_on='sector',\n",
    "                                    right_on='sector')"
   ]
  },
  {
   "cell_type": "code",
   "execution_count": 199,
   "metadata": {},
   "outputs": [],
   "source": [
    "# Indicador\n",
    "df_activity_info['Indicator'] = df_activity_info['indicador_eng']\n",
    "df_activity_info = df_activity_info[df_activity_info['Indicator'].notna()]\n"
   ]
  },
  {
   "cell_type": "code",
   "execution_count": 200,
   "metadata": {},
   "outputs": [],
   "source": [
    "#Activity\n",
    "df_activity_info['Activity Name'] = df_activity_info['actividad']"
   ]
  },
  {
   "cell_type": "code",
   "execution_count": 201,
   "metadata": {},
   "outputs": [],
   "source": [
    "#Activity Description\n",
    "df_activity_info['Activity Description'] = ''"
   ]
  },
  {
   "cell_type": "code",
   "execution_count": 202,
   "metadata": {},
   "outputs": [],
   "source": [
    "#COVID 19 Situation\n",
    "df_activity_info['COVID 19 Situation'] = df_activity_info['¿esta_actividad_se_realiza_en_el_marco_de_respuesta_a_la_emergencia_sanitaria_por_el_covid-19?']\n",
    "df_activity_info['COVID 19 Situation'] = np.where(df_activity_info['COVID 19 Situation'] == 'Si',\n",
    "                                                 'Yes',\n",
    "                                                 'No')\n"
   ]
  },
  {
   "cell_type": "code",
   "execution_count": 203,
   "metadata": {},
   "outputs": [],
   "source": [
    "#RMRP Activity\n",
    "df_activity_info['RMRP Activity'] = df_activity_info['¿esta_actividad_ha_sido_planificada_en_el_rmrp_2022?']\n",
    "df_activity_info['RMRP Activity'] = np.where(df_activity_info['RMRP Activity'] == 'Si',\n",
    "                                                 'Yes',\n",
    "                                                 'No')"
   ]
  },
  {
   "cell_type": "code",
   "execution_count": 204,
   "metadata": {},
   "outputs": [],
   "source": [
    "#CVA\n",
    "df_activity_info['CVA'] = np.where(df_activity_info['CVA_tag'] == 'Si',\n",
    "                                                 'Yes',\n",
    "                                                 'No')\n"
   ]
  },
  {
   "cell_type": "code",
   "execution_count": 205,
   "metadata": {},
   "outputs": [],
   "source": [
    "# Value (in USD)\n",
    "USD_records = df_activity_info.pivot_table(index=['RecordId'],\n",
    "                                                       values=['Monto transferido'],\n",
    "                                                       aggfunc='max',\n",
    "                                                       fill_value=0,\n",
    "                                                       margins='False')\n",
    "df_activity_info = pd.merge(df_activity_info, USD_records, how='left', left_on='RecordId',\n",
    "                                    right_on='RecordId')\n",
    "df_activity_info.rename(columns = {'Monto transferido_y':'Value (in USD)'}, inplace = True)\n",
    "df_activity_info['Value (in USD)'] = df_activity_info['Value (in USD)'].replace(np.nan, 0)\n",
    "                                                "
   ]
  },
  {
   "cell_type": "code",
   "execution_count": 206,
   "metadata": {},
   "outputs": [
    {
     "name": "stderr",
     "output_type": "stream",
     "text": [
      "<ipython-input-206-e502d9900886>:9: SettingWithCopyWarning: \n",
      "A value is trying to be set on a copy of a slice from a DataFrame\n",
      "\n",
      "See the caveats in the documentation: https://pandas.pydata.org/pandas-docs/stable/user_guide/indexing.html#returning-a-view-versus-a-copy\n",
      "  df_5w_part.drop_duplicates(keep='first', inplace=True)\n"
     ]
    }
   ],
   "source": [
    "#Delivery mechanism\n",
    "\n",
    "df_activity_info = pd.merge(df_activity_info, delivery_mechanism, how='left', left_on='mecanismo_de_entrega',\n",
    "                                    right_on='mecanismo_de_entrega')\n",
    "df_activity_info['Delivery mechanism'] = df_activity_info['Delivery mechanism'].replace(np.nan, '')\n",
    "\n",
    "df_5w_part = df_activity_info[[\"RecordId\",\"Country\",\"Country Admin1\",\"Admin2\",\"Appealing organisation Name\",\"Implementation Set up\",\"Implementing partner Name\",\"Month\",\"Subsector\",\"Indicator\",\"Activity Name\",\"Activity Description\",\"COVID 19 Situation\",\"RMRP Activity\",\"CVA\",\"Value (in USD)\",\"Delivery mechanism\"]]\n",
    "\n",
    "df_5w_part.drop_duplicates(keep='first', inplace=True)"
   ]
  },
  {
   "cell_type": "code",
   "execution_count": 207,
   "metadata": {},
   "outputs": [],
   "source": [
    "df_activity_info['aux']= df_activity_info['población meta'] + \"-\" + df_activity_info['frecuencia'] + \"-\" + df_activity_info['unidad_combinada']"
   ]
  },
  {
   "cell_type": "code",
   "execution_count": 208,
   "metadata": {},
   "outputs": [],
   "source": [
    "df_activity_info['aux'] = df_activity_info['aux'].fillna('Quantity of output')\n",
    "auxPivot = df_activity_info.pivot(columns=['aux'], values='Value').fillna(0)\n",
    "df_activity_info = pd.merge(df_activity_info, auxPivot, left_index=True, right_index=True)\n"
   ]
  },
  {
   "cell_type": "code",
   "execution_count": 209,
   "metadata": {},
   "outputs": [],
   "source": [
    "#Quantity of output\n",
    "Quantity_of_output = df_activity_info.pivot_table(index=['RecordId'],\n",
    "                                                       values=['Quantity of output'],\n",
    "                                                       aggfunc='sum',\n",
    "                                                       fill_value=0,\n",
    "                                                       margins='False')\n",
    "df_5w_part = pd.merge(df_5w_part, Quantity_of_output, how='left', left_on='RecordId',\n",
    "                                    right_on='RecordId')"
   ]
  },
  {
   "cell_type": "code",
   "execution_count": 210,
   "metadata": {},
   "outputs": [],
   "source": [
    "# Total monthly beneficiaries\n",
    "auxPivot=auxPivot[auxPivot.columns.drop(list(auxPivot.filter(regex='# de personas')))]\n",
    "auxPivot=auxPivot[auxPivot.columns.drop('Quantity of output')]\n",
    "auxPivot['Total monthly beneficiaries']=auxPivot.sum(axis = 1, skipna = True)\n",
    "df_activity_info = pd.merge(df_activity_info, auxPivot, left_index=True, right_index=True)\n",
    "total_monthly = df_activity_info.pivot_table(index=['RecordId'],\n",
    "                                                       values=['Total monthly beneficiaries'],\n",
    "                                                       aggfunc='sum',\n",
    "                                                       fill_value=0,\n",
    "                                                       margins='False')\n",
    "df_5w_part = pd.merge(df_5w_part, total_monthly, how='left', left_on='RecordId',\n",
    "                                    right_on='RecordId')"
   ]
  },
  {
   "cell_type": "code",
   "execution_count": 211,
   "metadata": {},
   "outputs": [],
   "source": [
    "#New beneficiaries of the month\n",
    "nuevos=list(auxPivot.filter(regex='Nuevo'))\n",
    "auxPivot['New beneficiaries of the month']= auxPivot[nuevos].sum(axis=1)\n",
    "df_activity_info = pd.merge(df_activity_info, auxPivot, left_index=True, right_index=True)\n",
    "new_beneficiaries_month = df_activity_info.pivot_table(index=['RecordId'],\n",
    "                                                       values=['New beneficiaries of the month'],\n",
    "                                                       aggfunc='sum',\n",
    "                                                       fill_value=0,\n",
    "                                                       margins='False')\n",
    "df_5w_part = pd.merge(df_5w_part, new_beneficiaries_month, how='left', left_on='RecordId',\n",
    "                                    right_on='RecordId')"
   ]
  },
  {
   "cell_type": "code",
   "execution_count": 212,
   "metadata": {},
   "outputs": [],
   "source": [
    "#Refugees and Migrants IN DESTINATION\n",
    "refugiados_migrantes=list(auxPivot.filter(regex='Refugiados y migrantes-Nuevo'))\n",
    "auxPivot['Refugees and Migrants IN DESTINATION']= auxPivot[refugiados_migrantes].sum(axis=1)\n",
    "df_activity_info = pd.merge(df_activity_info, auxPivot, left_index=True, right_index=True)\n",
    "rrmm_in_destination = df_activity_info.pivot_table(index=['RecordId'],\n",
    "                                                       values=['Refugees and Migrants IN DESTINATION'],\n",
    "                                                       aggfunc='sum',\n",
    "                                                       fill_value=0,\n",
    "                                                       margins='False')\n",
    "df_5w_part = pd.merge(df_5w_part, rrmm_in_destination, how='left', left_on='RecordId',\n",
    "                                    right_on='RecordId')\n"
   ]
  },
  {
   "cell_type": "code",
   "execution_count": 213,
   "metadata": {},
   "outputs": [],
   "source": [
    "#Refugees and Migrants IN TRANSIT\n",
    "df_5w_part['Refugees and Migrants IN TRANSIT'] = 0"
   ]
  },
  {
   "cell_type": "code",
   "execution_count": 214,
   "metadata": {},
   "outputs": [],
   "source": [
    "#Host Communities Beneficiaries\n",
    "comunidad_acogida=list(auxPivot.filter(regex='Comunidad de acogida-Nuevo'))\n",
    "auxPivot['Host Communities Beneficiaries']= auxPivot[comunidad_acogida].sum(axis=1)\n",
    "df_activity_info = pd.merge(df_activity_info, auxPivot, left_index=True, right_index=True)\n",
    "ccaa_beneficiaries = df_activity_info.pivot_table(index=['RecordId'],\n",
    "                                                       values=['Host Communities Beneficiaries'],\n",
    "                                                       aggfunc='sum',\n",
    "                                                       fill_value=0,\n",
    "                                                       margins='False')\n",
    "df_5w_part = pd.merge(df_5w_part, ccaa_beneficiaries, how='left', left_on='RecordId',\n",
    "                                    right_on='RecordId')"
   ]
  },
  {
   "cell_type": "code",
   "execution_count": 215,
   "metadata": {},
   "outputs": [
    {
     "name": "stdout",
     "output_type": "stream",
     "text": [
      "['Comunidad de acogida-Nuevo-Hombres', 'Comunidad de acogida-Nuevo-Mujeres', 'Comunidad de acogida-Nuevo-Niñas', 'Comunidad de acogida-Nuevo-Niños', 'Comunidad de acogida-Nuevo-Otros']\n"
     ]
    }
   ],
   "source": [
    "print(comunidad_acogida)\n",
    "df_5w_part.to_clipboard(excel=True)"
   ]
  },
  {
   "cell_type": "code",
   "execution_count": 216,
   "metadata": {},
   "outputs": [],
   "source": [
    "#Refugees and Migrants PENDULARS\n",
    "df_5w_part['Refugees and Migrants PENDULARS'] = 0\n",
    "df_5w_part['Colombian Returnees'] = 0"
   ]
  },
  {
   "cell_type": "code",
   "execution_count": 217,
   "metadata": {},
   "outputs": [],
   "source": [
    "# Women under 18\n",
    "ninas=list(auxPivot.filter(regex='Nuevo-Niñas'))\n",
    "auxPivot['Women under 18']= auxPivot[ninas].sum(axis=1)\n",
    "df_activity_info = pd.merge(df_activity_info, auxPivot, left_index=True, right_index=True)\n",
    "ninas_beneficiaries = df_activity_info.pivot_table(index=['RecordId'],\n",
    "                                                       values=['Women under 18'],\n",
    "                                                       aggfunc='sum',\n",
    "                                                       fill_value=0,\n",
    "                                                       margins='False')\n",
    "df_5w_part = pd.merge(df_5w_part, ninas_beneficiaries, how='left', left_on='RecordId',\n",
    "                                    right_on='RecordId')"
   ]
  },
  {
   "cell_type": "code",
   "execution_count": 218,
   "metadata": {},
   "outputs": [],
   "source": [
    "# Men under 18\n",
    "ninos=list(auxPivot.filter(regex='Nuevo-Niños'))\n",
    "auxPivot['Men under 18']= auxPivot[ninos].sum(axis=1)\n",
    "df_activity_info = pd.merge(df_activity_info, auxPivot, left_index=True, right_index=True)\n",
    "ninos_beneficiaries = df_activity_info.pivot_table(index=['RecordId'],\n",
    "                                                       values=['Men under 18'],\n",
    "                                                       aggfunc='sum',\n",
    "                                                       fill_value=0,\n",
    "                                                       margins='False')\n",
    "df_5w_part = pd.merge(df_5w_part, ninos_beneficiaries, how='left', left_on='RecordId',\n",
    "                                    right_on='RecordId')"
   ]
  },
  {
   "cell_type": "code",
   "execution_count": 219,
   "metadata": {},
   "outputs": [],
   "source": [
    "#Women above 18\n",
    "mujeres=list(auxPivot.filter(regex='Nuevo-Mujeres'))\n",
    "auxPivot['Women above 18']= auxPivot[mujeres].sum(axis=1)\n",
    "df_activity_info = pd.merge(df_activity_info, auxPivot, left_index=True, right_index=True)\n",
    "mujeres_beneficiaries = df_activity_info.pivot_table(index=['RecordId'],\n",
    "                                                       values=['Women above 18'],\n",
    "                                                       aggfunc='sum',\n",
    "                                                       fill_value=0,\n",
    "                                                       margins='False')\n",
    "df_5w_part = pd.merge(df_5w_part, mujeres_beneficiaries, how='left', left_on='RecordId',\n",
    "                                    right_on='RecordId')"
   ]
  },
  {
   "cell_type": "code",
   "execution_count": 220,
   "metadata": {},
   "outputs": [],
   "source": [
    "#Men above 18\n",
    "hombres=list(auxPivot.filter(regex='Nuevo-Hombres'))\n",
    "auxPivot['Men above 18']= auxPivot[hombres].sum(axis=1)\n",
    "df_activity_info = pd.merge(df_activity_info, auxPivot, left_index=True, right_index=True)\n",
    "hombres_beneficiaries = df_activity_info.pivot_table(index=['RecordId'],\n",
    "                                                       values=['Men above 18'],\n",
    "                                                       aggfunc='sum',\n",
    "                                                       fill_value=0,\n",
    "                                                       margins='False')\n",
    "df_5w_part = pd.merge(df_5w_part, hombres_beneficiaries, how='left', left_on='RecordId',\n",
    "                                    right_on='RecordId')"
   ]
  },
  {
   "cell_type": "code",
   "execution_count": 221,
   "metadata": {},
   "outputs": [],
   "source": [
    "# Other under 18\n",
    "df_5w_part['Other under 18'] = 0"
   ]
  },
  {
   "cell_type": "code",
   "execution_count": 222,
   "metadata": {},
   "outputs": [],
   "source": [
    "#Other above 18\n",
    "otros=list(auxPivot.filter(regex='Nuevo-Otros'))\n",
    "auxPivot['Other above 18']= auxPivot[otros].sum(axis=1)\n",
    "df_activity_info = pd.merge(df_activity_info, auxPivot, left_index=True, right_index=True)\n",
    "otros_beneficiaries = df_activity_info.pivot_table(index=['RecordId'],\n",
    "                                                       values=['Other above 18'],\n",
    "                                                       aggfunc='sum',\n",
    "                                                       fill_value=0,\n",
    "                                                       margins='False')\n",
    "df_5w_part = pd.merge(df_5w_part, otros_beneficiaries, how='left', left_on='RecordId',\n",
    "                                    right_on='RecordId')"
   ]
  },
  {
   "cell_type": "code",
   "execution_count": 223,
   "metadata": {},
   "outputs": [],
   "source": [
    "#platform\n",
    "df_5w_part[\"Platform\"] = df_5w_part[\"Country\"]"
   ]
  },
  {
   "cell_type": "code",
   "execution_count": 224,
   "metadata": {},
   "outputs": [],
   "source": [
    "# final change appealing vs implementing\n",
    "\n",
    "df_5w_part['Appealing organisation Name'] = np.where(df_5w_part['Implementation Set up'] == 'No',\n",
    "                                                 df_5w_part['Implementing partner Name'],\n",
    "                                                 df_5w_part['Appealing organisation Name'])"
   ]
  },
  {
   "cell_type": "code",
   "execution_count": 225,
   "metadata": {},
   "outputs": [],
   "source": [
    "df_5w_part['Implementing partner Name'] = np.where(df_5w_part['Implementation Set up'] == 'No',\n",
    "                                                 '',\n",
    "                                                 df_5w_part['Implementing partner Name'])"
   ]
  },
  {
   "cell_type": "code",
   "execution_count": 231,
   "metadata": {},
   "outputs": [],
   "source": [
    "# chequeo de valores invalidos\n",
    "df_5w_part['rev'] = df_5w_part['Value (in USD)']+df_5w_part['Quantity of output']+df_5w_part['Total monthly beneficiaries']+df_5w_part['New beneficiaries of the month']+df_5w_part['Refugees and Migrants IN DESTINATION']+df_5w_part['Refugees and Migrants IN TRANSIT']+df_5w_part['Host Communities Beneficiaries']+df_5w_part['Refugees and Migrants PENDULARS']+df_5w_part['Colombian Returnees']+df_5w_part['Women under 18']+df_5w_part['Men under 18']+df_5w_part['Women above 18']+df_5w_part['Men above 18']+df_5w_part['Other under 18']+df_5w_part['Other above 18']\n",
    "df_5w_part = df_5w_part[df_5w_part['rev'] > 0]"
   ]
  },
  {
   "cell_type": "code",
   "execution_count": 232,
   "metadata": {},
   "outputs": [
    {
     "data": {
      "text/html": [
       "<div>\n",
       "<style scoped>\n",
       "    .dataframe tbody tr th:only-of-type {\n",
       "        vertical-align: middle;\n",
       "    }\n",
       "\n",
       "    .dataframe tbody tr th {\n",
       "        vertical-align: top;\n",
       "    }\n",
       "\n",
       "    .dataframe thead th {\n",
       "        text-align: right;\n",
       "    }\n",
       "</style>\n",
       "<table border=\"1\" class=\"dataframe\">\n",
       "  <thead>\n",
       "    <tr style=\"text-align: right;\">\n",
       "      <th></th>\n",
       "      <th>RecordId</th>\n",
       "      <th>Country</th>\n",
       "      <th>Country Admin1</th>\n",
       "      <th>Admin2</th>\n",
       "      <th>Appealing organisation Name</th>\n",
       "      <th>Implementation Set up</th>\n",
       "      <th>Implementing partner Name</th>\n",
       "      <th>Month</th>\n",
       "      <th>Subsector</th>\n",
       "      <th>Indicator</th>\n",
       "      <th>...</th>\n",
       "      <th>Refugees and Migrants PENDULARS</th>\n",
       "      <th>Colombian Returnees</th>\n",
       "      <th>Women under 18</th>\n",
       "      <th>Men under 18</th>\n",
       "      <th>Women above 18</th>\n",
       "      <th>Men above 18</th>\n",
       "      <th>Other under 18</th>\n",
       "      <th>Other above 18</th>\n",
       "      <th>Platform</th>\n",
       "      <th>rev</th>\n",
       "    </tr>\n",
       "  </thead>\n",
       "  <tbody>\n",
       "    <tr>\n",
       "      <th>0</th>\n",
       "      <td>c8b2w23kziszzb31n</td>\n",
       "      <td>Ecuador</td>\n",
       "      <td>Carchi</td>\n",
       "      <td>Tulcán</td>\n",
       "      <td>International Organization for Migration (IOM)</td>\n",
       "      <td>No</td>\n",
       "      <td></td>\n",
       "      <td>2022-01</td>\n",
       "      <td>Multipurpose Cash Assistance (MPC)</td>\n",
       "      <td># of individuals benefitting from multipurpose...</td>\n",
       "      <td>...</td>\n",
       "      <td>0</td>\n",
       "      <td>0</td>\n",
       "      <td>9</td>\n",
       "      <td>6</td>\n",
       "      <td>11</td>\n",
       "      <td>4</td>\n",
       "      <td>0</td>\n",
       "      <td>0</td>\n",
       "      <td>Ecuador</td>\n",
       "      <td>120.0</td>\n",
       "    </tr>\n",
       "    <tr>\n",
       "      <th>1</th>\n",
       "      <td>cp93cd9kzmsobe039</td>\n",
       "      <td>Ecuador</td>\n",
       "      <td>Carchi</td>\n",
       "      <td>Tulcán</td>\n",
       "      <td>HIAS</td>\n",
       "      <td>No</td>\n",
       "      <td></td>\n",
       "      <td>2022-01</td>\n",
       "      <td>Multipurpose Cash Assistance (MPC)</td>\n",
       "      <td># of individuals benefitting from multipurpose...</td>\n",
       "      <td>...</td>\n",
       "      <td>0</td>\n",
       "      <td>0</td>\n",
       "      <td>5</td>\n",
       "      <td>2</td>\n",
       "      <td>3</td>\n",
       "      <td>3</td>\n",
       "      <td>0</td>\n",
       "      <td>0</td>\n",
       "      <td>Ecuador</td>\n",
       "      <td>512.0</td>\n",
       "    </tr>\n",
       "    <tr>\n",
       "      <th>2</th>\n",
       "      <td>caspryrkzhgyemu5q</td>\n",
       "      <td>Ecuador</td>\n",
       "      <td>Carchi</td>\n",
       "      <td>Tulcán</td>\n",
       "      <td>Norwegian Refugee Council (NRC)</td>\n",
       "      <td>No</td>\n",
       "      <td></td>\n",
       "      <td>2022-01</td>\n",
       "      <td>Multipurpose Cash Assistance (MPC)</td>\n",
       "      <td># of individuals benefitting from multipurpose...</td>\n",
       "      <td>...</td>\n",
       "      <td>0</td>\n",
       "      <td>0</td>\n",
       "      <td>0</td>\n",
       "      <td>0</td>\n",
       "      <td>25</td>\n",
       "      <td>21</td>\n",
       "      <td>0</td>\n",
       "      <td>0</td>\n",
       "      <td>Ecuador</td>\n",
       "      <td>1834.0</td>\n",
       "    </tr>\n",
       "    <tr>\n",
       "      <th>3</th>\n",
       "      <td>cwpz4jnkzhn6jxv5</td>\n",
       "      <td>Ecuador</td>\n",
       "      <td>Carchi</td>\n",
       "      <td>Tulcán</td>\n",
       "      <td>SOS Children's Villages</td>\n",
       "      <td>No</td>\n",
       "      <td></td>\n",
       "      <td>2022-01</td>\n",
       "      <td>Multipurpose Cash Assistance (MPC)</td>\n",
       "      <td># of individuals benefitting from multipurpose...</td>\n",
       "      <td>...</td>\n",
       "      <td>0</td>\n",
       "      <td>0</td>\n",
       "      <td>2</td>\n",
       "      <td>1</td>\n",
       "      <td>0</td>\n",
       "      <td>0</td>\n",
       "      <td>0</td>\n",
       "      <td>0</td>\n",
       "      <td>Ecuador</td>\n",
       "      <td>612.0</td>\n",
       "    </tr>\n",
       "    <tr>\n",
       "      <th>4</th>\n",
       "      <td>cw9j2bskzl4rq8dl</td>\n",
       "      <td>Ecuador</td>\n",
       "      <td>Carchi</td>\n",
       "      <td>Tulcán</td>\n",
       "      <td>United Nations Children's Fund (UNICEF)</td>\n",
       "      <td>Yes</td>\n",
       "      <td>HIAS</td>\n",
       "      <td>2022-01</td>\n",
       "      <td>Multipurpose Cash Assistance (MPC)</td>\n",
       "      <td># of individuals benefitting from multipurpose...</td>\n",
       "      <td>...</td>\n",
       "      <td>0</td>\n",
       "      <td>0</td>\n",
       "      <td>7</td>\n",
       "      <td>9</td>\n",
       "      <td>6</td>\n",
       "      <td>4</td>\n",
       "      <td>0</td>\n",
       "      <td>0</td>\n",
       "      <td>Ecuador</td>\n",
       "      <td>4681.0</td>\n",
       "    </tr>\n",
       "    <tr>\n",
       "      <th>...</th>\n",
       "      <td>...</td>\n",
       "      <td>...</td>\n",
       "      <td>...</td>\n",
       "      <td>...</td>\n",
       "      <td>...</td>\n",
       "      <td>...</td>\n",
       "      <td>...</td>\n",
       "      <td>...</td>\n",
       "      <td>...</td>\n",
       "      <td>...</td>\n",
       "      <td>...</td>\n",
       "      <td>...</td>\n",
       "      <td>...</td>\n",
       "      <td>...</td>\n",
       "      <td>...</td>\n",
       "      <td>...</td>\n",
       "      <td>...</td>\n",
       "      <td>...</td>\n",
       "      <td>...</td>\n",
       "      <td>...</td>\n",
       "      <td>...</td>\n",
       "    </tr>\n",
       "    <tr>\n",
       "      <th>804</th>\n",
       "      <td>cy5v9jdkzofc5jg2q</td>\n",
       "      <td>Ecuador</td>\n",
       "      <td>El Oro</td>\n",
       "      <td>Huaquillas</td>\n",
       "      <td>United Nations High Commissioner for Refugees ...</td>\n",
       "      <td>Yes</td>\n",
       "      <td>HIAS</td>\n",
       "      <td>2022-01</td>\n",
       "      <td>Food Security</td>\n",
       "      <td># of refugees, migrants and members of affecte...</td>\n",
       "      <td>...</td>\n",
       "      <td>0</td>\n",
       "      <td>0</td>\n",
       "      <td>16</td>\n",
       "      <td>18</td>\n",
       "      <td>21</td>\n",
       "      <td>18</td>\n",
       "      <td>0</td>\n",
       "      <td>0</td>\n",
       "      <td>Ecuador</td>\n",
       "      <td>292.0</td>\n",
       "    </tr>\n",
       "    <tr>\n",
       "      <th>805</th>\n",
       "      <td>cpd20k5kzk1cnhi5</td>\n",
       "      <td>Ecuador</td>\n",
       "      <td>El Oro</td>\n",
       "      <td>Huaquillas</td>\n",
       "      <td>United Nations High Commissioner for Refugees ...</td>\n",
       "      <td>No</td>\n",
       "      <td></td>\n",
       "      <td>2022-01</td>\n",
       "      <td>Health</td>\n",
       "      <td># of health facilities supported for the refug...</td>\n",
       "      <td>...</td>\n",
       "      <td>0</td>\n",
       "      <td>0</td>\n",
       "      <td>0</td>\n",
       "      <td>0</td>\n",
       "      <td>0</td>\n",
       "      <td>0</td>\n",
       "      <td>0</td>\n",
       "      <td>0</td>\n",
       "      <td>Ecuador</td>\n",
       "      <td>4.0</td>\n",
       "    </tr>\n",
       "    <tr>\n",
       "      <th>806</th>\n",
       "      <td>cyt1onmkzne13l99</td>\n",
       "      <td>Ecuador</td>\n",
       "      <td>El Oro</td>\n",
       "      <td>Huaquillas</td>\n",
       "      <td>International Committee for the Development of...</td>\n",
       "      <td>No</td>\n",
       "      <td></td>\n",
       "      <td>2022-01</td>\n",
       "      <td>Health</td>\n",
       "      <td># of refugees and migrants from Venezuela who ...</td>\n",
       "      <td>...</td>\n",
       "      <td>0</td>\n",
       "      <td>0</td>\n",
       "      <td>0</td>\n",
       "      <td>1</td>\n",
       "      <td>3</td>\n",
       "      <td>1</td>\n",
       "      <td>0</td>\n",
       "      <td>0</td>\n",
       "      <td>Ecuador</td>\n",
       "      <td>20.0</td>\n",
       "    </tr>\n",
       "    <tr>\n",
       "      <th>807</th>\n",
       "      <td>c4cxbizkzhzfw6kb</td>\n",
       "      <td>Ecuador</td>\n",
       "      <td>El Oro</td>\n",
       "      <td>Huaquillas</td>\n",
       "      <td>United Nations High Commissioner for Refugees ...</td>\n",
       "      <td>Yes</td>\n",
       "      <td>Permanent Human Rights defense Committee (CDH)</td>\n",
       "      <td>2022-01</td>\n",
       "      <td>Health</td>\n",
       "      <td># of refugees and migrants benefiting from pri...</td>\n",
       "      <td>...</td>\n",
       "      <td>0</td>\n",
       "      <td>0</td>\n",
       "      <td>7</td>\n",
       "      <td>9</td>\n",
       "      <td>21</td>\n",
       "      <td>7</td>\n",
       "      <td>0</td>\n",
       "      <td>0</td>\n",
       "      <td>Ecuador</td>\n",
       "      <td>176.0</td>\n",
       "    </tr>\n",
       "    <tr>\n",
       "      <th>808</th>\n",
       "      <td>cfgx2q2kznd3zhe3</td>\n",
       "      <td>Ecuador</td>\n",
       "      <td>El Oro</td>\n",
       "      <td>Huaquillas</td>\n",
       "      <td>International Committee for the Development of...</td>\n",
       "      <td>No</td>\n",
       "      <td></td>\n",
       "      <td>2022-01</td>\n",
       "      <td>Health</td>\n",
       "      <td># of refugees and migrants benefiting from pri...</td>\n",
       "      <td>...</td>\n",
       "      <td>0</td>\n",
       "      <td>0</td>\n",
       "      <td>1</td>\n",
       "      <td>2</td>\n",
       "      <td>9</td>\n",
       "      <td>2</td>\n",
       "      <td>0</td>\n",
       "      <td>0</td>\n",
       "      <td>Ecuador</td>\n",
       "      <td>56.0</td>\n",
       "    </tr>\n",
       "  </tbody>\n",
       "</table>\n",
       "<p>799 rows × 33 columns</p>\n",
       "</div>"
      ],
      "text/plain": [
       "              RecordId  Country Country Admin1      Admin2  \\\n",
       "0    c8b2w23kziszzb31n  Ecuador         Carchi      Tulcán   \n",
       "1    cp93cd9kzmsobe039  Ecuador         Carchi      Tulcán   \n",
       "2    caspryrkzhgyemu5q  Ecuador         Carchi      Tulcán   \n",
       "3     cwpz4jnkzhn6jxv5  Ecuador         Carchi      Tulcán   \n",
       "4     cw9j2bskzl4rq8dl  Ecuador         Carchi      Tulcán   \n",
       "..                 ...      ...            ...         ...   \n",
       "804  cy5v9jdkzofc5jg2q  Ecuador         El Oro  Huaquillas   \n",
       "805   cpd20k5kzk1cnhi5  Ecuador         El Oro  Huaquillas   \n",
       "806   cyt1onmkzne13l99  Ecuador         El Oro  Huaquillas   \n",
       "807   c4cxbizkzhzfw6kb  Ecuador         El Oro  Huaquillas   \n",
       "808   cfgx2q2kznd3zhe3  Ecuador         El Oro  Huaquillas   \n",
       "\n",
       "                           Appealing organisation Name Implementation Set up  \\\n",
       "0       International Organization for Migration (IOM)                    No   \n",
       "1                                                 HIAS                    No   \n",
       "2                      Norwegian Refugee Council (NRC)                    No   \n",
       "3                              SOS Children's Villages                    No   \n",
       "4              United Nations Children's Fund (UNICEF)                   Yes   \n",
       "..                                                 ...                   ...   \n",
       "804  United Nations High Commissioner for Refugees ...                   Yes   \n",
       "805  United Nations High Commissioner for Refugees ...                    No   \n",
       "806  International Committee for the Development of...                    No   \n",
       "807  United Nations High Commissioner for Refugees ...                   Yes   \n",
       "808  International Committee for the Development of...                    No   \n",
       "\n",
       "                          Implementing partner Name    Month  \\\n",
       "0                                                    2022-01   \n",
       "1                                                    2022-01   \n",
       "2                                                    2022-01   \n",
       "3                                                    2022-01   \n",
       "4                                              HIAS  2022-01   \n",
       "..                                              ...      ...   \n",
       "804                                            HIAS  2022-01   \n",
       "805                                                  2022-01   \n",
       "806                                                  2022-01   \n",
       "807  Permanent Human Rights defense Committee (CDH)  2022-01   \n",
       "808                                                  2022-01   \n",
       "\n",
       "                              Subsector  \\\n",
       "0    Multipurpose Cash Assistance (MPC)   \n",
       "1    Multipurpose Cash Assistance (MPC)   \n",
       "2    Multipurpose Cash Assistance (MPC)   \n",
       "3    Multipurpose Cash Assistance (MPC)   \n",
       "4    Multipurpose Cash Assistance (MPC)   \n",
       "..                                  ...   \n",
       "804                       Food Security   \n",
       "805                              Health   \n",
       "806                              Health   \n",
       "807                              Health   \n",
       "808                              Health   \n",
       "\n",
       "                                             Indicator  ...  \\\n",
       "0    # of individuals benefitting from multipurpose...  ...   \n",
       "1    # of individuals benefitting from multipurpose...  ...   \n",
       "2    # of individuals benefitting from multipurpose...  ...   \n",
       "3    # of individuals benefitting from multipurpose...  ...   \n",
       "4    # of individuals benefitting from multipurpose...  ...   \n",
       "..                                                 ...  ...   \n",
       "804  # of refugees, migrants and members of affecte...  ...   \n",
       "805  # of health facilities supported for the refug...  ...   \n",
       "806  # of refugees and migrants from Venezuela who ...  ...   \n",
       "807  # of refugees and migrants benefiting from pri...  ...   \n",
       "808  # of refugees and migrants benefiting from pri...  ...   \n",
       "\n",
       "    Refugees and Migrants PENDULARS Colombian Returnees Women under 18  \\\n",
       "0                                 0                   0              9   \n",
       "1                                 0                   0              5   \n",
       "2                                 0                   0              0   \n",
       "3                                 0                   0              2   \n",
       "4                                 0                   0              7   \n",
       "..                              ...                 ...            ...   \n",
       "804                               0                   0             16   \n",
       "805                               0                   0              0   \n",
       "806                               0                   0              0   \n",
       "807                               0                   0              7   \n",
       "808                               0                   0              1   \n",
       "\n",
       "    Men under 18 Women above 18  Men above 18 Other under 18  Other above 18  \\\n",
       "0              6             11             4              0               0   \n",
       "1              2              3             3              0               0   \n",
       "2              0             25            21              0               0   \n",
       "3              1              0             0              0               0   \n",
       "4              9              6             4              0               0   \n",
       "..           ...            ...           ...            ...             ...   \n",
       "804           18             21            18              0               0   \n",
       "805            0              0             0              0               0   \n",
       "806            1              3             1              0               0   \n",
       "807            9             21             7              0               0   \n",
       "808            2              9             2              0               0   \n",
       "\n",
       "     Platform     rev  \n",
       "0     Ecuador   120.0  \n",
       "1     Ecuador   512.0  \n",
       "2     Ecuador  1834.0  \n",
       "3     Ecuador   612.0  \n",
       "4     Ecuador  4681.0  \n",
       "..        ...     ...  \n",
       "804   Ecuador   292.0  \n",
       "805   Ecuador     4.0  \n",
       "806   Ecuador    20.0  \n",
       "807   Ecuador   176.0  \n",
       "808   Ecuador    56.0  \n",
       "\n",
       "[799 rows x 33 columns]"
      ]
     },
     "metadata": {},
     "output_type": "display_data"
    }
   ],
   "source": [
    "display(df_5w_part)"
   ]
  },
  {
   "cell_type": "code",
   "execution_count": 226,
   "metadata": {},
   "outputs": [],
   "source": [
    "df_5w_part.to_clipboard(excel=True)"
   ]
  }
 ],
 "metadata": {
  "interpreter": {
   "hash": "5329477f056337a57c03f9554b4ec09986a1d6fb409cc91143668d799e53c890"
  },
  "kernelspec": {
   "display_name": "Python 3.8.5 ('activity_info_geo_env')",
   "language": "python",
   "name": "python3"
  },
  "language_info": {
   "codemirror_mode": {
    "name": "ipython",
    "version": 3
   },
   "file_extension": ".py",
   "mimetype": "text/x-python",
   "name": "python",
   "nbconvert_exporter": "python",
   "pygments_lexer": "ipython3",
   "version": "3.8.5"
  },
  "orig_nbformat": 4
 },
 "nbformat": 4,
 "nbformat_minor": 2
}
