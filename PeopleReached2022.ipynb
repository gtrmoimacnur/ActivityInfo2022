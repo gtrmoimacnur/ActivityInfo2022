{
 "cells": [
  {
   "cell_type": "markdown",
   "metadata": {},
   "source": [
    "# People Reached"
   ]
  },
  {
   "cell_type": "markdown",
   "metadata": {},
   "source": [
    "Se realizara el calculo del people reached mediante una seleccion de indicadores, los mismos que sirvieron para el cálculo del submission"
   ]
  },
  {
   "cell_type": "code",
   "execution_count": 1,
   "metadata": {},
   "outputs": [],
   "source": [
    "import activityinfo as AT\n",
    "import pandas as pd\n",
    "import numpy as np\n",
    "import geopandas as gpd\n",
    "import time"
   ]
  },
  {
   "cell_type": "code",
   "execution_count": 2,
   "metadata": {},
   "outputs": [],
   "source": [
    "def get_columns_by_population_type(pop_type, dataframe):\n",
    "    columns_array=[]\n",
    "    for col in dataframe.columns:\n",
    "        if col.startswith(pop_type):\n",
    "           columns_array.append(col)\n",
    "    return columns_array\n",
    "\n",
    "def get_columns_by_age_gender(age_gender, dataframe):\n",
    "    columns_array=[]\n",
    "    for col in dataframe.columns:\n",
    "        if col.endswith(age_gender):\n",
    "           columns_array.append(col)\n",
    "    return columns_array\n"
   ]
  },
  {
   "cell_type": "code",
   "execution_count": 3,
   "metadata": {},
   "outputs": [],
   "source": [
    "## definimos variables para el calculo mensual\n",
    "mes_curso = 'AI2022-04.xlsx'\n",
    "mes = '2022-04'"
   ]
  },
  {
   "cell_type": "markdown",
   "metadata": {},
   "source": [
    "# Tablas de referencia"
   ]
  },
  {
   "cell_type": "code",
   "execution_count": 4,
   "metadata": {},
   "outputs": [],
   "source": [
    "MarcoMonitoreo_ref= pd.read_excel(r'C:\\Users\\jorcabrera\\OneDrive - International Organization for Migration - IOM\\InteragencyGTRM\\GTRM 2022\\IM 2022\\ActivityInfo\\MasterList\\NEW_MasterList2022.xlsx', sheet_name='marco_monitoreo')\n",
    "indicadores_ref=MarcoMonitoreo_ref[['codigo', 'ppl_reached']]\n",
    "Plantilla = pd.read_excel(r'C:\\Users\\jorcabrera\\OneDrive - International Organization for Migration - IOM\\InteragencyGTRM\\GTRM 2022\\IM 2022\\Monitoreo_5w\\Templates y guías\\Consolidated_Template_2022_Countries.xlsx', sheet_name='Ecuador')\n",
    "sectores_ref= pd.read_excel(r'C:\\Users\\jorcabrera\\OneDrive - International Organization for Migration - IOM\\InteragencyGTRM\\GTRM 2022\\IM 2022\\ActivityInfo\\MasterList\\NEW_MasterList2022.xlsx', sheet_name='sectores')"
   ]
  },
  {
   "cell_type": "markdown",
   "metadata": {},
   "source": [
    "# Leer datos taggeados"
   ]
  },
  {
   "cell_type": "code",
   "execution_count": 5,
   "metadata": {},
   "outputs": [],
   "source": [
    "df_activity_info = pd.read_excel(r'C:\\Users\\jorcabrera\\OneDrive - International Organization for Migration - IOM\\InteragencyGTRM\\GTRM 2022\\IM 2022\\ActivityInfo\\DescargasMensuales\\procesados\\proc_'+mes_curso, index_col=0)\n"
   ]
  },
  {
   "cell_type": "code",
   "execution_count": 6,
   "metadata": {},
   "outputs": [],
   "source": [
    "## Join de tablas\n",
    "df_activity_info = pd.merge(df_activity_info, indicadores_ref, how='left', left_on='codigo',\n",
    "                                    right_on='codigo')\n",
    "df_activity_info_CVA = df_activity_info[(df_activity_info['CVA_tag']=='Si')]"
   ]
  },
  {
   "cell_type": "markdown",
   "metadata": {},
   "source": [
    "# Filtrado de datos\n",
    "Se filtraran datos que hacen referencia a poblacion CCAA y RRMM, con sus desagregaciones, ademas solamente se consideraran las intervenciones nuevas."
   ]
  },
  {
   "cell_type": "code",
   "execution_count": 7,
   "metadata": {},
   "outputs": [],
   "source": [
    "df_activity_info = df_activity_info[df_activity_info['mes']==mes]\n",
    "df_activity_info = df_activity_info[df_activity_info['ppl_reached']=='Si']\n",
    "df_activity_info = df_activity_info[df_activity_info['¿esta_actividad_ha_sido_planificada_en_el_rmrp_2022?']=='Si']\n",
    "df_activity_info = df_activity_info[df_activity_info['frecuencia']=='Nuevo']\n",
    "df_activity_info = df_activity_info[(df_activity_info['población meta']=='Refugiados y migrantes')|(df_activity_info['población meta']=='Comunidad de acogida')]\n",
    "df_activity_info = df_activity_info[(df_activity_info['unidad'] == 'Niños') | (df_activity_info['unidad'] == 'Niñas') | (df_activity_info['unidad'] == 'Hombres')| (df_activity_info['unidad'] == 'Mujeres')| (df_activity_info['unidad'] == 'Otros')]\n",
    "df_activity_info['aux_ppl'] = df_activity_info['población meta'] + '-' + df_activity_info['unidad']\n"
   ]
  },
  {
   "cell_type": "markdown",
   "metadata": {},
   "source": [
    "Filtrado de datos CVA"
   ]
  },
  {
   "cell_type": "code",
   "execution_count": 8,
   "metadata": {},
   "outputs": [],
   "source": [
    "df_activity_info_CVA = df_activity_info_CVA[df_activity_info_CVA['mes']==mes]\n",
    "df_activity_info_CVA = df_activity_info_CVA[df_activity_info_CVA['ppl_reached']=='Si']\n",
    "df_activity_info = df_activity_info[df_activity_info['¿esta_actividad_ha_sido_planificada_en_el_rmrp_2022?']=='Si']\n",
    "df_activity_info_CVA = df_activity_info_CVA[df_activity_info_CVA['frecuencia']=='Nuevo']\n",
    "df_activity_info_CVA = df_activity_info_CVA[(df_activity_info_CVA['población meta']=='Refugiados y migrantes')|(df_activity_info_CVA['población meta']=='Comunidad de acogida')]\n",
    "df_activity_info_CVA = df_activity_info_CVA[(df_activity_info_CVA['unidad'] == 'Niños') | (df_activity_info_CVA['unidad'] == 'Niñas') | (df_activity_info_CVA['unidad'] == 'Hombres')| (df_activity_info_CVA['unidad'] == 'Mujeres')| (df_activity_info_CVA['unidad'] == 'Otros')]\n",
    "df_activity_info_CVA['aux_ppl'] = df_activity_info_CVA['población meta'] + '-' + df_activity_info_CVA['unidad']"
   ]
  },
  {
   "cell_type": "markdown",
   "metadata": {},
   "source": [
    "# Reumen de datos para people reached"
   ]
  },
  {
   "cell_type": "markdown",
   "metadata": {},
   "source": [
    "Datos globales"
   ]
  },
  {
   "cell_type": "code",
   "execution_count": 9,
   "metadata": {},
   "outputs": [],
   "source": [
    "intersector_sum_indicador=df_activity_info.groupby(['mes','sector','DPA_DESPRO','DPA_DESCAN','Acronimo Implementador','población meta', 'unidad', 'indicador'])['Value'].agg('sum','count').reset_index()\n",
    "intersector_sum_org=intersector_sum_indicador.groupby(['mes','sector','DPA_DESPRO','DPA_DESCAN','Acronimo Implementador','población meta', 'unidad'])['Value'].agg(['max', 'count']).reset_index()\n",
    "intersector_max_canton=intersector_sum_org.groupby(['mes','sector','DPA_DESPRO','DPA_DESCAN','población meta', 'unidad'])['max'].agg(['max']).reset_index()"
   ]
  },
  {
   "cell_type": "code",
   "execution_count": 10,
   "metadata": {},
   "outputs": [],
   "source": [
    "intersector_max_canton['aux'] = intersector_max_canton['población meta'] + '-' + intersector_max_canton['unidad']\n",
    "sector_mes = intersector_max_canton.groupby(['mes','sector','DPA_DESPRO','aux'])['max'].agg('sum').unstack(fill_value=0).reset_index().rename_axis(None, axis=1)\n",
    "sector_mes['DPA_DESPRO'] = sector_mes['DPA_DESPRO'].str.title()\n",
    "cols_intersector=sector_mes.columns[3:]\n",
    "INTERSECTOR = sector_mes\n",
    "sector_mes = pd.merge(sector_mes, sectores_ref, how='left', left_on=['sector'],\n",
    "                                    right_on=['sector'])\n",
    "cols = get_columns_by_population_type('Refugiados y migrantes', sector_mes)\n",
    "sector_mes['Consolidated In Destination'] = sector_mes[cols].sum(axis=1)\n",
    "cols = get_columns_by_population_type('Comunidad de acogida', sector_mes)\n",
    "sector_mes['Consolidated Host Communities'] = sector_mes[cols].sum(axis=1)\n",
    "cols = get_columns_by_age_gender('Niñas', sector_mes)\n",
    "sector_mes['Consolidated Girls'] = sector_mes[cols].sum(axis=1)\n",
    "cols = get_columns_by_age_gender('Niños', sector_mes)\n",
    "sector_mes['Consolidated Boys'] = sector_mes[cols].sum(axis=1)\n",
    "cols = get_columns_by_age_gender('Mujeres', sector_mes)\n",
    "sector_mes['Consolidated Women'] = sector_mes[cols].sum(axis=1)\n",
    "cols = get_columns_by_age_gender('Hombres', sector_mes)\n",
    "sector_mes['Consolidated Men'] = sector_mes[cols].sum(axis=1)\n",
    "cols = get_columns_by_age_gender('Otros', sector_mes)\n",
    "sector_mes['Consolidated Other above 18'] = sector_mes[cols].sum(axis=1)\n",
    "\n",
    "\n",
    "INTERSECTOR = INTERSECTOR.groupby(['mes','DPA_DESPRO'])[cols_intersector].agg('max').reset_index().rename_axis(None, axis=1)\n",
    "\n",
    "cols = get_columns_by_population_type('Refugiados y migrantes', INTERSECTOR)\n",
    "INTERSECTOR['Consolidated In Destination'] = INTERSECTOR[cols].sum(axis=1)\n",
    "cols = get_columns_by_population_type('Comunidad de acogida', INTERSECTOR)\n",
    "INTERSECTOR['Consolidated Host Communities'] = INTERSECTOR[cols].sum(axis=1)\n",
    "cols = get_columns_by_age_gender('Niñas', INTERSECTOR)\n",
    "INTERSECTOR['Consolidated Girls'] = INTERSECTOR[cols].sum(axis=1)\n",
    "cols = get_columns_by_age_gender('Niños', INTERSECTOR)\n",
    "INTERSECTOR['Consolidated Boys'] = INTERSECTOR[cols].sum(axis=1)\n",
    "cols = get_columns_by_age_gender('Mujeres', INTERSECTOR)\n",
    "INTERSECTOR['Consolidated Women'] = INTERSECTOR[cols].sum(axis=1)\n",
    "cols = get_columns_by_age_gender('Hombres', INTERSECTOR)\n",
    "INTERSECTOR['Consolidated Men'] = INTERSECTOR[cols].sum(axis=1)\n",
    "cols = get_columns_by_age_gender('Otros', INTERSECTOR)\n",
    "INTERSECTOR['Consolidated Other above 18'] = INTERSECTOR[cols].sum(axis=1)\n",
    "INTERSECTOR.drop(['Comunidad de acogida-Hombres',\n",
    "'Comunidad de acogida-Mujeres',\n",
    "'Comunidad de acogida-Niñas',\n",
    "'Comunidad de acogida-Niños',\n",
    "'Comunidad de acogida-Otros',\n",
    "'Refugiados y migrantes-Hombres',\n",
    "'Refugiados y migrantes-Mujeres',\n",
    "'Refugiados y migrantes-Niñas',\n",
    "'Refugiados y migrantes-Niños',\n",
    "'Refugiados y migrantes-Otros'], axis=1, inplace=True)\n",
    "INTERSECTOR['Subsector']='Intersector'\n",
    "INTERSECTOR['Platform']='Ecuador'\n",
    "INTERSECTOR['Country']='Ecuador'\n",
    "INTERSECTOR.rename(columns = {'DPA_DESPRO':'Admin1'}, inplace = True)\n",
    "INTERSECTOR = INTERSECTOR[['Platform',\n",
    "'Country',\n",
    "'Admin1',\n",
    "'Subsector',\n",
    "'mes',\n",
    "'Consolidated In Destination',\n",
    "'Consolidated Host Communities',\n",
    "'Consolidated Girls',\n",
    "'Consolidated Boys',\n",
    "'Consolidated Women',\n",
    "'Consolidated Men',\n",
    "'Consolidated Other above 18']]"
   ]
  },
  {
   "cell_type": "markdown",
   "metadata": {},
   "source": [
    "Datos CVA"
   ]
  },
  {
   "cell_type": "code",
   "execution_count": 11,
   "metadata": {},
   "outputs": [],
   "source": [
    "intersector_sum_indicador_CVA=df_activity_info_CVA.groupby(['mes','sector','DPA_DESPRO','DPA_DESCAN','Acronimo Implementador','población meta', 'unidad', 'indicador'])['Value'].agg('sum','count').reset_index()\n",
    "intersector_sum_org_CVA=intersector_sum_indicador_CVA.groupby(['mes','sector','DPA_DESPRO','DPA_DESCAN','Acronimo Implementador','población meta', 'unidad'])['Value'].agg(['max', 'count']).reset_index()\n",
    "intersector_max_canton_CVA=intersector_sum_org_CVA.groupby(['mes','sector','DPA_DESPRO','DPA_DESCAN','población meta', 'unidad'])['max'].agg(['max']).reset_index()"
   ]
  },
  {
   "cell_type": "code",
   "execution_count": 12,
   "metadata": {},
   "outputs": [
    {
     "name": "stderr",
     "output_type": "stream",
     "text": [
      "<ipython-input-12-0a0b0b369500>:7: SettingWithCopyWarning: \n",
      "A value is trying to be set on a copy of a slice from a DataFrame.\n",
      "Try using .loc[row_indexer,col_indexer] = value instead\n",
      "\n",
      "See the caveats in the documentation: https://pandas.pydata.org/pandas-docs/stable/user_guide/indexing.html#returning-a-view-versus-a-copy\n",
      "  CVA_sector_mes['DPA_DESPRO'] = CVA_sector_mes['DPA_DESPRO'].str.title()\n"
     ]
    }
   ],
   "source": [
    "#CVA_sector_mes = intersector_max_canton_CVA.pivot_table(index=['mes','sector','DPA_DESPRO'],columns=['población meta', 'unidad'], values='max', aggfunc='sum', fill_value=0, margins=True, margins_name='Monthly CVA').reset_index()\n",
    "intersector_max_canton_CVA['aux_cva'] = intersector_max_canton_CVA['población meta'] + '-' + intersector_max_canton_CVA['unidad']\n",
    "CVA_sector_mes = intersector_max_canton_CVA.groupby(['mes','sector','DPA_DESPRO','aux_cva'])['max'].agg('sum').unstack(fill_value=0).reset_index().rename_axis(None, axis=1)\n",
    "INTERSECTOR_CVA = CVA_sector_mes\n",
    "CVA_sector_mes['Monthly CVA'] = CVA_sector_mes.sum(axis=1)\n",
    "CVA_sector_mes = CVA_sector_mes[['mes', 'sector', 'DPA_DESPRO', 'Monthly CVA']]\n",
    "CVA_sector_mes['DPA_DESPRO'] = CVA_sector_mes['DPA_DESPRO'].str.title()\n",
    "\n",
    "CVA_sector_mes = pd.merge(CVA_sector_mes, sectores_ref, how='left', left_on=['sector'],\n",
    "                                    right_on=['sector'])\n"
   ]
  },
  {
   "cell_type": "code",
   "execution_count": 13,
   "metadata": {},
   "outputs": [
    {
     "data": {
      "text/html": [
       "<div>\n",
       "<style scoped>\n",
       "    .dataframe tbody tr th:only-of-type {\n",
       "        vertical-align: middle;\n",
       "    }\n",
       "\n",
       "    .dataframe tbody tr th {\n",
       "        vertical-align: top;\n",
       "    }\n",
       "\n",
       "    .dataframe thead th {\n",
       "        text-align: right;\n",
       "    }\n",
       "</style>\n",
       "<table border=\"1\" class=\"dataframe\">\n",
       "  <thead>\n",
       "    <tr style=\"text-align: right;\">\n",
       "      <th></th>\n",
       "      <th>Admin1</th>\n",
       "      <th>Subsector</th>\n",
       "      <th>Monthly CVA</th>\n",
       "    </tr>\n",
       "  </thead>\n",
       "  <tbody>\n",
       "    <tr>\n",
       "      <th>0</th>\n",
       "      <td>Azuay</td>\n",
       "      <td>Intersector</td>\n",
       "      <td>465.0</td>\n",
       "    </tr>\n",
       "    <tr>\n",
       "      <th>1</th>\n",
       "      <td>Bolivar</td>\n",
       "      <td>Intersector</td>\n",
       "      <td>15.0</td>\n",
       "    </tr>\n",
       "    <tr>\n",
       "      <th>2</th>\n",
       "      <td>Carchi</td>\n",
       "      <td>Intersector</td>\n",
       "      <td>1192.0</td>\n",
       "    </tr>\n",
       "    <tr>\n",
       "      <th>3</th>\n",
       "      <td>Cañar</td>\n",
       "      <td>Intersector</td>\n",
       "      <td>8.0</td>\n",
       "    </tr>\n",
       "    <tr>\n",
       "      <th>4</th>\n",
       "      <td>Chimborazo</td>\n",
       "      <td>Intersector</td>\n",
       "      <td>61.0</td>\n",
       "    </tr>\n",
       "    <tr>\n",
       "      <th>5</th>\n",
       "      <td>Cotopaxi</td>\n",
       "      <td>Intersector</td>\n",
       "      <td>110.0</td>\n",
       "    </tr>\n",
       "    <tr>\n",
       "      <th>6</th>\n",
       "      <td>El Oro</td>\n",
       "      <td>Intersector</td>\n",
       "      <td>1680.0</td>\n",
       "    </tr>\n",
       "    <tr>\n",
       "      <th>7</th>\n",
       "      <td>Esmeraldas</td>\n",
       "      <td>Intersector</td>\n",
       "      <td>94.0</td>\n",
       "    </tr>\n",
       "    <tr>\n",
       "      <th>8</th>\n",
       "      <td>Guayas</td>\n",
       "      <td>Intersector</td>\n",
       "      <td>1233.0</td>\n",
       "    </tr>\n",
       "    <tr>\n",
       "      <th>9</th>\n",
       "      <td>Imbabura</td>\n",
       "      <td>Intersector</td>\n",
       "      <td>393.0</td>\n",
       "    </tr>\n",
       "    <tr>\n",
       "      <th>10</th>\n",
       "      <td>Loja</td>\n",
       "      <td>Intersector</td>\n",
       "      <td>48.0</td>\n",
       "    </tr>\n",
       "    <tr>\n",
       "      <th>11</th>\n",
       "      <td>Los Rios</td>\n",
       "      <td>Intersector</td>\n",
       "      <td>135.0</td>\n",
       "    </tr>\n",
       "    <tr>\n",
       "      <th>12</th>\n",
       "      <td>Manabi</td>\n",
       "      <td>Intersector</td>\n",
       "      <td>391.0</td>\n",
       "    </tr>\n",
       "    <tr>\n",
       "      <th>13</th>\n",
       "      <td>Morona Santiago</td>\n",
       "      <td>Intersector</td>\n",
       "      <td>2.0</td>\n",
       "    </tr>\n",
       "    <tr>\n",
       "      <th>14</th>\n",
       "      <td>Orellana</td>\n",
       "      <td>Intersector</td>\n",
       "      <td>22.0</td>\n",
       "    </tr>\n",
       "    <tr>\n",
       "      <th>15</th>\n",
       "      <td>Pichincha</td>\n",
       "      <td>Intersector</td>\n",
       "      <td>1617.0</td>\n",
       "    </tr>\n",
       "    <tr>\n",
       "      <th>16</th>\n",
       "      <td>Santa Elena</td>\n",
       "      <td>Intersector</td>\n",
       "      <td>7.0</td>\n",
       "    </tr>\n",
       "    <tr>\n",
       "      <th>17</th>\n",
       "      <td>Santo Domingo De Los Tsachilas</td>\n",
       "      <td>Intersector</td>\n",
       "      <td>307.0</td>\n",
       "    </tr>\n",
       "    <tr>\n",
       "      <th>18</th>\n",
       "      <td>Sucumbios</td>\n",
       "      <td>Intersector</td>\n",
       "      <td>891.0</td>\n",
       "    </tr>\n",
       "    <tr>\n",
       "      <th>19</th>\n",
       "      <td>Tungurahua</td>\n",
       "      <td>Intersector</td>\n",
       "      <td>269.0</td>\n",
       "    </tr>\n",
       "  </tbody>\n",
       "</table>\n",
       "</div>"
      ],
      "text/plain": [
       "                            Admin1    Subsector  Monthly CVA\n",
       "0                            Azuay  Intersector        465.0\n",
       "1                          Bolivar  Intersector         15.0\n",
       "2                           Carchi  Intersector       1192.0\n",
       "3                            Cañar  Intersector          8.0\n",
       "4                       Chimborazo  Intersector         61.0\n",
       "5                         Cotopaxi  Intersector        110.0\n",
       "6                           El Oro  Intersector       1680.0\n",
       "7                       Esmeraldas  Intersector         94.0\n",
       "8                           Guayas  Intersector       1233.0\n",
       "9                         Imbabura  Intersector        393.0\n",
       "10                            Loja  Intersector         48.0\n",
       "11                        Los Rios  Intersector        135.0\n",
       "12                          Manabi  Intersector        391.0\n",
       "13                 Morona Santiago  Intersector          2.0\n",
       "14                        Orellana  Intersector         22.0\n",
       "15                       Pichincha  Intersector       1617.0\n",
       "16                     Santa Elena  Intersector          7.0\n",
       "17  Santo Domingo De Los Tsachilas  Intersector        307.0\n",
       "18                       Sucumbios  Intersector        891.0\n",
       "19                      Tungurahua  Intersector        269.0"
      ]
     },
     "metadata": {},
     "output_type": "display_data"
    }
   ],
   "source": [
    "## INTERSECTOR CVA\n",
    "\n",
    "cols_intersector=CVA_sector_mes.columns[3:]\n",
    "INTERSECTOR_CVA = INTERSECTOR_CVA.groupby(['mes','DPA_DESPRO'])['Monthly CVA'].agg('max').reset_index().rename_axis(None, axis=1)\n",
    "INTERSECTOR_CVA['DPA_DESPRO'] = INTERSECTOR_CVA['DPA_DESPRO'].str.title()\n",
    "INTERSECTOR_CVA['Subsector']='Intersector'\n",
    "INTERSECTOR_CVA['Platform']='Ecuador'\n",
    "INTERSECTOR_CVA['Country']='Ecuador'\n",
    "INTERSECTOR_CVA.rename(columns = {'DPA_DESPRO':'Admin1'}, inplace = True)\n",
    "INTERSECTOR_CVA = INTERSECTOR_CVA[['Admin1',\n",
    "'Subsector',\n",
    "'Monthly CVA']]\n",
    "display(INTERSECTOR_CVA)\n"
   ]
  },
  {
   "cell_type": "markdown",
   "metadata": {},
   "source": [
    "# Union de tablas y Join"
   ]
  },
  {
   "cell_type": "code",
   "execution_count": 14,
   "metadata": {},
   "outputs": [],
   "source": [
    "\n",
    "Plantilla = Plantilla[['Platform', 'Country', 'Admin1', 'Subsector']]\n",
    "INTERSECTOR_Plantilla = Plantilla[Plantilla['Subsector'] == 'Intersector']\n",
    "Plantilla = Plantilla[Plantilla['Subsector'] != 'Intersector']\n",
    "\n",
    "INTERSECTOR_CVA = pd.merge(INTERSECTOR_Plantilla, INTERSECTOR_CVA, how='left', left_on=['Admin1', 'Subsector'],\n",
    "                                    right_on=['Admin1','Subsector'])\n",
    "INTERSECTOR_CVA=INTERSECTOR_CVA[['Admin1','Subsector','Monthly CVA']]\n",
    "INTERSECTOR_CVA = INTERSECTOR_CVA.fillna(0)\n",
    "\n",
    "## Join de tablas\n",
    "people_reached_report = pd.merge(Plantilla, CVA_sector_mes, how='left', left_on=['Admin1', 'Subsector'],\n",
    "                                    right_on=['DPA_DESPRO','Subsector'])\n",
    "\n",
    "people_reached_report.drop(['mes','sector', 'DPA_DESPRO'], axis=1, inplace=True)\n",
    "\n",
    "people_reached_report = pd.merge(people_reached_report, sector_mes, how='left', left_on=['Admin1', 'Subsector'],\n",
    "                                    right_on=['DPA_DESPRO','Subsector'])\n",
    "people_reached_report.drop(['sector',\n",
    "'DPA_DESPRO',\n",
    "'Comunidad de acogida-Hombres',\n",
    "'Comunidad de acogida-Mujeres',\n",
    "'Comunidad de acogida-Niñas',\n",
    "'Comunidad de acogida-Niños',\n",
    "'Comunidad de acogida-Otros',\n",
    "'Refugiados y migrantes-Hombres',\n",
    "'Refugiados y migrantes-Mujeres',\n",
    "'Refugiados y migrantes-Niñas',\n",
    "'Refugiados y migrantes-Niños',\n",
    "'Refugiados y migrantes-Otros'], axis=1, inplace=True)\n",
    "people_reached_report['mes']= mes\n",
    "people_reached_report.rename(columns = {'mes':'Month'}, inplace = True)\n",
    "INTERSECTOR.rename(columns = {'mes':'Month'}, inplace = True)\n",
    "INTERSECTOR = pd.merge(INTERSECTOR_Plantilla, INTERSECTOR, how='left', left_on=['Admin1', 'Subsector'],\n",
    "                                    right_on=['Admin1','Subsector'])\n",
    "#INTERSECTOR=INTERSECTOR[['Admin1','Subsector']]\n",
    "INTERSECTOR.drop(['Platform_y','Country_y'], axis=1, inplace=True)\n",
    "INTERSECTOR.rename(columns = {'Platform_x':'Platform','Country_x':'Country' }, inplace = True)\n",
    "INTERSECTOR_TOTAL = pd.merge(INTERSECTOR, INTERSECTOR_CVA, how='left', left_on=['Admin1', 'Subsector'],\n",
    "                                    right_on=['Admin1','Subsector'])\n",
    "\n",
    "people_reached_report = pd.concat([people_reached_report, INTERSECTOR_TOTAL], ignore_index=True)\n",
    "people_reached_report=people_reached_report[['Platform', 'Country', 'Admin1', 'Month', 'Subsector','Monthly CVA', 'Consolidated In Destination', 'Consolidated Host Communities','Consolidated Girls','Consolidated Boys','Consolidated Women','Consolidated Men','Consolidated Other above 18']]\n",
    "people_reached_report['Month'] = mes\n",
    "people_reached_report = people_reached_report.fillna(0)\n",
    "people_reached_report.to_clipboard(excel=True)\n"
   ]
  },
  {
   "cell_type": "markdown",
   "metadata": {},
   "source": [
    "# Intersector\n",
    "Se toman los maximos entre cada provincia comparando entre los sectores"
   ]
  }
 ],
 "metadata": {
  "interpreter": {
   "hash": "27b2718562775da974095f47ecc4a2cf976f9eabdcb2d07e0ec2cb4ab5d96767"
  },
  "kernelspec": {
   "display_name": "Python 3.8.5 ('activity_info_geo_env')",
   "language": "python",
   "name": "python3"
  },
  "language_info": {
   "codemirror_mode": {
    "name": "ipython",
    "version": 3
   },
   "file_extension": ".py",
   "mimetype": "text/x-python",
   "name": "python",
   "nbconvert_exporter": "python",
   "pygments_lexer": "ipython3",
   "version": "3.8.5"
  },
  "orig_nbformat": 4
 },
 "nbformat": 4,
 "nbformat_minor": 2
}
