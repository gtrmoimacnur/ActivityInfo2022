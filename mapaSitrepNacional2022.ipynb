{
 "cells": [
  {
   "cell_type": "code",
   "execution_count": 64,
   "metadata": {},
   "outputs": [],
   "source": [
    "import pandas as pd\n",
    "import numpy as np\n",
    "import geopandas as gpd\n",
    "import time, os, fnmatch, shutil"
   ]
  },
  {
   "cell_type": "code",
   "execution_count": 65,
   "metadata": {},
   "outputs": [],
   "source": [
    "t = time.localtime()\n",
    "timestamp = time.strftime('%b-%d-%Y_%H%M', t)"
   ]
  },
  {
   "cell_type": "code",
   "execution_count": 66,
   "metadata": {},
   "outputs": [],
   "source": [
    "mes_curso = 'AI2022-01.xlsx'\n",
    "df_activity_info = pd.read_excel(r'C:\\Users\\jorcabrera\\OneDrive - International Organization for Migration - IOM\\InteragencyGTRM\\GTRM 2022\\IM 2022\\ActivityInfo\\DescargasMensuales'+ '\\\\' + mes_curso)\n",
    "df_activity_info = df_activity_info[df_activity_info['Value'] != 0]"
   ]
  },
  {
   "cell_type": "code",
   "execution_count": 67,
   "metadata": {},
   "outputs": [],
   "source": [
    "ruta_dpa_canton_ecuador = \"shapefiles/dpa_canton_codificado_v1_4326.shp\"\n",
    "ruta_dpa_provincia_ecuador = \"shapefiles/dpa_provincia_codificado4326.shp\"\n",
    "dpa_ecuador_cantones = gpd.read_file(ruta_dpa_canton_ecuador, encoding='utf-8')\n",
    "dpa_ecuador_provincias = gpd.read_file(ruta_dpa_provincia_ecuador, encoding='utf-8')\n",
    "dpa_ecuador_cantones = gpd.read_file(ruta_dpa_canton_ecuador, encoding='utf-8')\n",
    "shapefile_out = \"C:/Users/jorcabrera/OneDrive - International Organization for Migration - IOM/Documents/OIM/tmp/\""
   ]
  },
  {
   "cell_type": "code",
   "execution_count": 68,
   "metadata": {},
   "outputs": [],
   "source": [
    "pivot_canton = df_activity_info.pivot_table(index=['canton.code'],\n",
    "                                                      values=['Value'],\n",
    "                                                      aggfunc='count',\n",
    "                                                      fill_value=0,\n",
    "                                                      margins_name='Beneficiarios Total',\n",
    "                                                      margins='True')"
   ]
  },
  {
   "cell_type": "code",
   "execution_count": 69,
   "metadata": {},
   "outputs": [],
   "source": [
    "flattened_pivot_canton = pd.DataFrame(pivot_canton.to_records())[:-1]\n",
    "# Renombramos las cabeceras de los campos de la tabla a nombres mas apropiados\n",
    "flattened_pivot_canton.columns = [hdr.replace(\"('count', 'Value')\", \"Value\") for hdr in flattened_pivot_canton.columns]\n"
   ]
  },
  {
   "cell_type": "code",
   "execution_count": 70,
   "metadata": {},
   "outputs": [],
   "source": [
    "flattened_pivot_canton['canton.code'] = flattened_pivot_canton['canton.code'].str[2:]\n",
    "flattened_pivot_canton = flattened_pivot_canton.rename(columns={'canton.code': 'DPA_CANTON'})"
   ]
  },
  {
   "cell_type": "code",
   "execution_count": 71,
   "metadata": {},
   "outputs": [],
   "source": [
    "df_activity_info_geo = pd.merge(dpa_ecuador_cantones, flattened_pivot_canton, how='left', on='DPA_CANTON')\n",
    "df_activity_info_geo.to_file(driver='ESRI Shapefile', filename= shapefile_out + \"2022_Nacional_\" + timestamp + \"_ACTIVIDADES_CANTON.shp\", encoding='utf-8')"
   ]
  }
 ],
 "metadata": {
  "interpreter": {
   "hash": "5329477f056337a57c03f9554b4ec09986a1d6fb409cc91143668d799e53c890"
  },
  "kernelspec": {
   "display_name": "Python 3.8.5 ('activity_info_geo_env')",
   "language": "python",
   "name": "python3"
  },
  "language_info": {
   "codemirror_mode": {
    "name": "ipython",
    "version": 3
   },
   "file_extension": ".py",
   "mimetype": "text/x-python",
   "name": "python",
   "nbconvert_exporter": "python",
   "pygments_lexer": "ipython3",
   "version": "3.8.5"
  },
  "orig_nbformat": 4
 },
 "nbformat": 4,
 "nbformat_minor": 2
}
